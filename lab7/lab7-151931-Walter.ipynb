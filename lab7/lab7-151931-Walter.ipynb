{
 "cells": [
  {
   "cell_type": "markdown",
   "metadata": {},
   "source": [
    "# Intro to ML"
   ]
  },
  {
   "cell_type": "markdown",
   "metadata": {},
   "source": [
    "This assignment departs from the tradition of implementing everything from scratch and we will use a few libraries. First: `numpy`, the Python library for handling matrices."
   ]
  },
  {
   "cell_type": "code",
   "execution_count": 156,
   "metadata": {},
   "outputs": [
    {
     "name": "stdout",
     "output_type": "stream",
     "text": [
      "Defaulting to user installation because normal site-packages is not writeable\n",
      "Requirement already satisfied: numpy in /home/eryczek/.local/lib/python3.10/site-packages (1.23.2)\n"
     ]
    }
   ],
   "source": [
    "!pip install numpy"
   ]
  },
  {
   "cell_type": "markdown",
   "metadata": {},
   "source": [
    "Next, `seaborn`, a library for easily plotting cute charts."
   ]
  },
  {
   "cell_type": "code",
   "execution_count": 157,
   "metadata": {},
   "outputs": [
    {
     "name": "stdout",
     "output_type": "stream",
     "text": [
      "Defaulting to user installation because normal site-packages is not writeable\n",
      "Requirement already satisfied: seaborn in /home/eryczek/.local/lib/python3.10/site-packages (0.12.1)\n",
      "Requirement already satisfied: matplotlib!=3.6.1,>=3.1 in /home/eryczek/.local/lib/python3.10/site-packages (from seaborn) (3.5.3)\n",
      "Requirement already satisfied: pandas>=0.25 in /home/eryczek/.local/lib/python3.10/site-packages (from seaborn) (1.4.4)\n",
      "Requirement already satisfied: numpy>=1.17 in /home/eryczek/.local/lib/python3.10/site-packages (from seaborn) (1.23.2)\n",
      "Requirement already satisfied: python-dateutil>=2.7 in /home/eryczek/.local/lib/python3.10/site-packages (from matplotlib!=3.6.1,>=3.1->seaborn) (2.8.2)\n",
      "Requirement already satisfied: packaging>=20.0 in /usr/lib/python3.10/site-packages (from matplotlib!=3.6.1,>=3.1->seaborn) (21.3)\n",
      "Requirement already satisfied: kiwisolver>=1.0.1 in /home/eryczek/.local/lib/python3.10/site-packages (from matplotlib!=3.6.1,>=3.1->seaborn) (1.4.4)\n",
      "Requirement already satisfied: pillow>=6.2.0 in /usr/lib/python3.10/site-packages (from matplotlib!=3.6.1,>=3.1->seaborn) (9.3.0)\n",
      "Requirement already satisfied: pyparsing>=2.2.1 in /usr/lib/python3.10/site-packages (from matplotlib!=3.6.1,>=3.1->seaborn) (3.0.9)\n",
      "Requirement already satisfied: fonttools>=4.22.0 in /home/eryczek/.local/lib/python3.10/site-packages (from matplotlib!=3.6.1,>=3.1->seaborn) (4.37.1)\n",
      "Requirement already satisfied: cycler>=0.10 in /home/eryczek/.local/lib/python3.10/site-packages (from matplotlib!=3.6.1,>=3.1->seaborn) (0.11.0)\n",
      "Requirement already satisfied: pytz>=2020.1 in /home/eryczek/.local/lib/python3.10/site-packages (from pandas>=0.25->seaborn) (2022.2.1)\n",
      "Requirement already satisfied: six>=1.5 in /usr/lib/python3.10/site-packages (from python-dateutil>=2.7->matplotlib!=3.6.1,>=3.1->seaborn) (1.16.0)\n"
     ]
    }
   ],
   "source": [
    "!pip install seaborn"
   ]
  },
  {
   "cell_type": "markdown",
   "metadata": {},
   "source": [
    "Finally, `scikit-learn`, a library implementing many ML algorithm"
   ]
  },
  {
   "cell_type": "code",
   "execution_count": 158,
   "metadata": {},
   "outputs": [
    {
     "name": "stdout",
     "output_type": "stream",
     "text": [
      "Defaulting to user installation because normal site-packages is not writeable\n",
      "Requirement already satisfied: scikit-learn>=0.23.0 in /home/eryczek/.local/lib/python3.10/site-packages (1.1.3)\n",
      "Requirement already satisfied: threadpoolctl>=2.0.0 in /home/eryczek/.local/lib/python3.10/site-packages (from scikit-learn>=0.23.0) (3.1.0)\n",
      "Requirement already satisfied: numpy>=1.17.3 in /home/eryczek/.local/lib/python3.10/site-packages (from scikit-learn>=0.23.0) (1.23.2)\n",
      "Requirement already satisfied: scipy>=1.3.2 in /home/eryczek/.local/lib/python3.10/site-packages (from scikit-learn>=0.23.0) (1.9.1)\n",
      "Requirement already satisfied: joblib>=1.0.0 in /home/eryczek/.local/lib/python3.10/site-packages (from scikit-learn>=0.23.0) (1.2.0)\n"
     ]
    }
   ],
   "source": [
    "!pip install 'scikit-learn>=0.23.0'"
   ]
  },
  {
   "cell_type": "markdown",
   "metadata": {},
   "source": [
    "Thorought the whole assignment you can - if you want - use the `numpy` library."
   ]
  },
  {
   "cell_type": "code",
   "execution_count": 159,
   "metadata": {},
   "outputs": [],
   "source": [
    "import numpy as np"
   ]
  },
  {
   "cell_type": "markdown",
   "metadata": {},
   "source": [
    "We begin by defining a simple dataset, mapping flat areas in `areas` to their rental prices (in Arbitrary Units of Currency, AUC for short) in `prices`. Both lists are of the same length, and are in the same order, i.e., the `i`-th flat has the area `areas[i]` and can be rented for `prices[i]` AUC"
   ]
  },
  {
   "cell_type": "code",
   "execution_count": 160,
   "metadata": {},
   "outputs": [],
   "source": [
    "areas = np.array([77.0, 50.0, 44.0, 65.0, 65.0, 52.0, 48.0, 45.0, 45.0, 36.0, 53.0, 43.0, 53.0, 27.0, 100.0, 52.0, 84.0, 77.0, 42.0, 75.0, 47.0, 52.0, 64.0, 42.0, 85.0, 30.0])\n",
    "prices = np.array([282, 250, 262, 399, 285, 308, 336, 277, 275, 219, 332, 262, 334, 185, 370, 329, 179, 265, 237, 330, 265, 345, 307, 270, 355, 179])"
   ]
  },
  {
   "cell_type": "markdown",
   "metadata": {},
   "source": [
    "## Task 1: prediction in 1D linear regression"
   ]
  },
  {
   "cell_type": "markdown",
   "metadata": {},
   "source": [
    "Complete the following `predict` function so that, given a list of features and the weights in linear regression. Assume that `w1` represents the slope, whereas `w0` is the intercept. `x` is a single-dimensional vector (e.g., a `list` of `float`s) such that every value corresponds to the single feature of another example. `predict` should return a vector of the same length `y`, such that $y_i = w_1x_i + w_0$\n",
    "\n",
    "You can use the `numpy` library if it is convenient for you, but it is by no means necessary."
   ]
  },
  {
   "cell_type": "code",
   "execution_count": 161,
   "metadata": {},
   "outputs": [],
   "source": [
    "def predict(x, w1, w0):\n",
    "    return w1*np.array(x) + w0"
   ]
  },
  {
   "cell_type": "markdown",
   "metadata": {},
   "source": [
    "Let's test it!"
   ]
  },
  {
   "cell_type": "code",
   "execution_count": 162,
   "metadata": {},
   "outputs": [],
   "source": [
    "feature = [1, 2, 3]\n",
    "expected = [10, 20, 30]\n",
    "predicted = predict(feature, 10, 0)\n",
    "\n",
    "assert (np.array(predicted) == np.array(expected)).all()"
   ]
  },
  {
   "cell_type": "code",
   "execution_count": 163,
   "metadata": {},
   "outputs": [],
   "source": [
    "feature = [1, 2, 3]\n",
    "expected = [11, 12, 13]\n",
    "predicted = predict(np.array(feature), 1, 10)\n",
    "\n",
    "assert (np.array(predicted) == np.array(expected)).all()"
   ]
  },
  {
   "cell_type": "markdown",
   "metadata": {},
   "source": [
    "## Task 2: training a 1D linear regression model"
   ]
  },
  {
   "cell_type": "markdown",
   "metadata": {},
   "source": [
    "Complete the following cell of code so it iteratively improves the weights of the model to find the best line mapping `x` to `y`. Use the gradient descent algorithm presented during the lecture. Again, `x` and `y` are vectors, such that `x[i]` is the feature of the `i`-th example, whereas `y[i]` is the decision attribute (i.e., the value to approximate with the line). `w1` and `w0` given as the parameters are the initial values for the parameters of the model (i.e., the line), whereas `learning_rate` is the learning rate (denoted by $\\eta$ in the slides). Finally, `max_iters` is the number of steps (weight updates) to do. `train_linear_regression` should return a pair of values `(w1, w0)` representing the best line approximating `y` given `x` according to the mean squared error.\n",
    "\n",
    "Implement it on your own instead of using an implementation available in a library (e.g., `sklearn.linear_model.SGDRegressor`). You can, however, use `numpy` if it is convenient for you."
   ]
  },
  {
   "cell_type": "code",
   "execution_count": 164,
   "metadata": {},
   "outputs": [],
   "source": [
    "def train_linear_regression(x, y, w1=0.0, w0=0.0, learning_rate=0.1, max_iters=1000):\n",
    "    x = np.array(x)\n",
    "    y = np.array(y)\n",
    "    m = len(x)\n",
    "    for _ in range(max_iters):\n",
    "        error = w1*x + w0 - y\n",
    "        w1 = w1 - learning_rate*np.sum(error * x)/m\n",
    "        w0 = w0 - learning_rate*np.sum(error)/m\n",
    "    return (w1, w0)"
   ]
  },
  {
   "cell_type": "markdown",
   "metadata": {},
   "source": [
    "Lets see how it works for a very simple case. The following cell should not fail."
   ]
  },
  {
   "cell_type": "code",
   "execution_count": 165,
   "metadata": {},
   "outputs": [
    {
     "name": "stdout",
     "output_type": "stream",
     "text": [
      "Model: y=10.000003305361734x+5.999992486135853\n"
     ]
    }
   ],
   "source": [
    "x = [1, 2, 3]\n",
    "y = [16, 26, 36]\n",
    "w1, w0 = train_linear_regression(x, y)\n",
    "print(f\"Model: y={w1}x+{w0}\")\n",
    "assert abs(w1 - 10) <= 0.01\n",
    "assert abs(w0 - 6) <= 0.01"
   ]
  },
  {
   "cell_type": "markdown",
   "metadata": {},
   "source": [
    "Let's train a model for the data on the rental prices (you may need to tweak `learning_rate` and/or `max_iters`):"
   ]
  },
  {
   "cell_type": "code",
   "execution_count": 166,
   "metadata": {},
   "outputs": [
    {
     "name": "stdout",
     "output_type": "stream",
     "text": [
      "Model: price = 2.820877963228235 * area + 120.98628676214642\n"
     ]
    }
   ],
   "source": [
    "w1, w0 = train_linear_regression(areas, prices, learning_rate=0.0001, max_iters=100000)\n",
    "print(f\"Model: price = {w1} * area + {w0}\")"
   ]
  },
  {
   "cell_type": "markdown",
   "metadata": {},
   "source": [
    "And now let's see how the predictions and reality differ. Since comparing a bunch of numbers is inconvenient, we will plot a chart instead using the `seaborn` library. In the chart, the points represent the actual data, whereas the line is the output of the linear regression."
   ]
  },
  {
   "cell_type": "code",
   "execution_count": 167,
   "metadata": {},
   "outputs": [],
   "source": [
    "predicted_prices = predict(areas, w1, w0)"
   ]
  },
  {
   "cell_type": "code",
   "execution_count": 168,
   "metadata": {},
   "outputs": [
    {
     "data": {
      "text/plain": [
       "<AxesSubplot:>"
      ]
     },
     "execution_count": 168,
     "metadata": {},
     "output_type": "execute_result"
    },
    {
     "data": {
      "image/png": "[encoded data removed]",
      "text/plain": [
       "<Figure size 500x500 with 1 Axes>"
      ]
     },
     "metadata": {},
     "output_type": "display_data"
    }
   ],
   "source": [
    "import seaborn as sns\n",
    "sns.relplot(x=areas, y=prices)\n",
    "sns.lineplot(x=areas, y=predicted_prices)"
   ]
  },
  {
   "cell_type": "markdown",
   "metadata": {},
   "source": [
    "## Task 3: mean-squared error"
   ]
  },
  {
   "cell_type": "markdown",
   "metadata": {},
   "source": [
    "Comparing expected and predicted values on charts is not a very objective measure. Instead, it would be better to automate it. Complete the following function `mse` such that given two vectors `y_true` and `y_pred` of the same length, it returns the mean squared error, i.e., $$\\frac{1}{n}\\sum_{i=1}^n (y_i - \\hat{y_i})^2$$ where $y$ stands for `y_true` and $\\hat{y}$ for `y_pred`"
   ]
  },
  {
   "cell_type": "code",
   "execution_count": 169,
   "metadata": {},
   "outputs": [],
   "source": [
    "def mse(y_true, y_pred) -> float:\n",
    "    return np.sum((np.array(y_true) - np.array(y_pred))**2) / len(y_true)"
   ]
  },
  {
   "cell_type": "markdown",
   "metadata": {},
   "source": [
    "Let's make sure it works"
   ]
  },
  {
   "cell_type": "code",
   "execution_count": 170,
   "metadata": {},
   "outputs": [],
   "source": [
    "assert mse([1, 2, 3], [2, 5, 7]) == ((1-2)**2 + (2-5)**2 + (3-7)**2)/3"
   ]
  },
  {
   "cell_type": "markdown",
   "metadata": {},
   "source": [
    "## Interlude: ridge regression in scikit-learn"
   ]
  },
  {
   "cell_type": "markdown",
   "metadata": {},
   "source": [
    "We will now use a slightly larger dataset called *diabetes*. We begin by loading it using a loader provied in the `scikit-learn` library"
   ]
  },
  {
   "cell_type": "code",
   "execution_count": 171,
   "metadata": {},
   "outputs": [
    {
     "name": "stdout",
     "output_type": "stream",
     "text": [
      ".. _diabetes_dataset:\n",
      "\n",
      "Diabetes dataset\n",
      "----------------\n",
      "\n",
      "Ten baseline variables, age, sex, body mass index, average blood\n",
      "pressure, and six blood serum measurements were obtained for each of n =\n",
      "442 diabetes patients, as well as the response of interest, a\n",
      "quantitative measure of disease progression one year after baseline.\n",
      "\n",
      "**Data Set Characteristics:**\n",
      "\n",
      "  :Number of Instances: 442\n",
      "\n",
      "  :Number of Attributes: First 10 columns are numeric predictive values\n",
      "\n",
      "  :Target: Column 11 is a quantitative measure of disease progression one year after baseline\n",
      "\n",
      "  :Attribute Information:\n",
      "      - age     age in years\n",
      "      - sex\n",
      "      - bmi     body mass index\n",
      "      - bp      average blood pressure\n",
      "      - s1      tc, total serum cholesterol\n",
      "      - s2      ldl, low-density lipoproteins\n",
      "      - s3      hdl, high-density lipoproteins\n",
      "      - s4      tch, total cholesterol / HDL\n",
      "      - s5      ltg, possibly log of serum triglycerides level\n",
      "      - s6      glu, blood sugar level\n",
      "\n",
      "Note: Each of these 10 feature variables have been mean centered and scaled by the standard deviation times the square root of `n_samples` (i.e. the sum of squares of each column totals 1).\n",
      "\n",
      "Source URL:\n",
      "https://www4.stat.ncsu.edu/~boos/var.select/diabetes.html\n",
      "\n",
      "For more information see:\n",
      "Bradley Efron, Trevor Hastie, Iain Johnstone and Robert Tibshirani (2004) \"Least Angle Regression,\" Annals of Statistics (with discussion), 407-499.\n",
      "(https://web.stanford.edu/~hastie/Papers/LARS/LeastAngle_2002.pdf)\n",
      "\n"
     ]
    }
   ],
   "source": [
    "import sklearn.datasets\n",
    "dataset = sklearn.datasets.load_diabetes()\n",
    "print(dataset.DESCR)"
   ]
  },
  {
   "cell_type": "markdown",
   "metadata": {},
   "source": [
    "Threre are 442 examples described by 10 features each, organized into a matrix `dataset.data`:"
   ]
  },
  {
   "cell_type": "code",
   "execution_count": 172,
   "metadata": {},
   "outputs": [
    {
     "data": {
      "text/plain": [
       "(442, 10)"
      ]
     },
     "execution_count": 172,
     "metadata": {},
     "output_type": "execute_result"
    }
   ],
   "source": [
    "dataset.data.shape"
   ]
  },
  {
   "cell_type": "markdown",
   "metadata": {},
   "source": [
    "There is also a vector of values to predict:"
   ]
  },
  {
   "cell_type": "code",
   "execution_count": 173,
   "metadata": {},
   "outputs": [
    {
     "data": {
      "text/plain": [
       "(442,)"
      ]
     },
     "execution_count": 173,
     "metadata": {},
     "output_type": "execute_result"
    }
   ],
   "source": [
    "dataset.target.shape"
   ]
  },
  {
   "cell_type": "code",
   "execution_count": 174,
   "metadata": {},
   "outputs": [
    {
     "name": "stdout",
     "output_type": "stream",
     "text": [
      "The first example\n",
      "x[0] [ 0.03807591  0.05068012  0.06169621  0.02187239 -0.0442235  -0.03482076\n",
      " -0.04340085 -0.00259226  0.01990749 -0.01764613]\n",
      "y[0] 151.0\n"
     ]
    }
   ],
   "source": [
    "print(f\"The first example\")\n",
    "print(\"x[0]\", dataset.data[0])\n",
    "print(\"y[0]\", dataset.target[0])"
   ]
  },
  {
   "cell_type": "markdown",
   "metadata": {},
   "source": [
    "We need to split the dataset into three parts:\n",
    "* a training set - to optimize the parameters of a model (e.g., the weights in the linear regression)\n",
    "* a validation (development) set - to optimize the hyperparameters of a model (e.g., the coefficient $\\alpha$ in the ridge regression)\n",
    "* a test set - to see how well a model behaves on unseen data"
   ]
  },
  {
   "cell_type": "code",
   "execution_count": 269,
   "metadata": {},
   "outputs": [
    {
     "name": "stdout",
     "output_type": "stream",
     "text": [
      "Training set (70% of 442): (308, 10) (308,)\n",
      "Validation set (10% of 442): (45, 10) (45,)\n",
      "Test set (20% of 442): (89, 10) (89,)\n"
     ]
    }
   ],
   "source": [
    "import sklearn.model_selection\n",
    "# X, test_X, y, test_y = sklearn.model_selection.train_test_split(dataset.data, dataset.target, random_state=23, test_size=.2)\n",
    "# train_X, val_X, train_y, val_y = sklearn.model_selection.train_test_split(X, y, random_state=4, test_size=.125)\n",
    "X, test_X, y, test_y = sklearn.model_selection.train_test_split(dataset.data, dataset.target, random_state=42, test_size=.2)\n",
    "train_X, val_X, train_y, val_y = sklearn.model_selection.train_test_split(X, y, random_state=43, test_size=.125)\n",
    "print(\"Training set (70% of 442):\", train_X.shape, train_y.shape)\n",
    "print(\"Validation set (10% of 442):\", val_X.shape, val_y.shape)\n",
    "print(\"Test set (20% of 442):\", test_X.shape, test_y.shape)"
   ]
  },
  {
   "cell_type": "markdown",
   "metadata": {},
   "source": [
    "Let's train a ridge regression model, i.e, a linear regression model with a regularization component to avoid overfitting."
   ]
  },
  {
   "cell_type": "code",
   "execution_count": 176,
   "metadata": {},
   "outputs": [
    {
     "data": {
      "text/html": [
       "<style>#sk-container-id-6 {color: black;background-color: white;}#sk-container-id-6 pre{padding: 0;}#sk-container-id-6 div.sk-toggleable {background-color: white;}#sk-container-id-6 label.sk-toggleable__label {cursor: pointer;display: block;width: 100%;margin-bottom: 0;padding: 0.3em;box-sizing: border-box;text-align: center;}#sk-container-id-6 label.sk-toggleable__label-arrow:before {content: \"▸\";float: left;margin-right: 0.25em;color: #696969;}#sk-container-id-6 label.sk-toggleable__label-arrow:hover:before {color: black;}#sk-container-id-6 div.sk-estimator:hover label.sk-toggleable__label-arrow:before {color: black;}#sk-container-id-6 div.sk-toggleable__content {max-height: 0;max-width: 0;overflow: hidden;text-align: left;background-color: #f0f8ff;}#sk-container-id-6 div.sk-toggleable__content pre {margin: 0.2em;color: black;border-radius: 0.25em;background-color: #f0f8ff;}#sk-container-id-6 input.sk-toggleable__control:checked~div.sk-toggleable__content {max-height: 200px;max-width: 100%;overflow: auto;}#sk-container-id-6 input.sk-toggleable__control:checked~label.sk-toggleable__label-arrow:before {content: \"▾\";}#sk-container-id-6 div.sk-estimator input.sk-toggleable__control:checked~label.sk-toggleable__label {background-color: #d4ebff;}#sk-container-id-6 div.sk-label input.sk-toggleable__control:checked~label.sk-toggleable__label {background-color: #d4ebff;}#sk-container-id-6 input.sk-hidden--visually {border: 0;clip: rect(1px 1px 1px 1px);clip: rect(1px, 1px, 1px, 1px);height: 1px;margin: -1px;overflow: hidden;padding: 0;position: absolute;width: 1px;}#sk-container-id-6 div.sk-estimator {font-family: monospace;background-color: #f0f8ff;border: 1px dotted black;border-radius: 0.25em;box-sizing: border-box;margin-bottom: 0.5em;}#sk-container-id-6 div.sk-estimator:hover {background-color: #d4ebff;}#sk-container-id-6 div.sk-parallel-item::after {content: \"\";width: 100%;border-bottom: 1px solid gray;flex-grow: 1;}#sk-container-id-6 div.sk-label:hover label.sk-toggleable__label {background-color: #d4ebff;}#sk-container-id-6 div.sk-serial::before {content: \"\";position: absolute;border-left: 1px solid gray;box-sizing: border-box;top: 0;bottom: 0;left: 50%;z-index: 0;}#sk-container-id-6 div.sk-serial {display: flex;flex-direction: column;align-items: center;background-color: white;padding-right: 0.2em;padding-left: 0.2em;position: relative;}#sk-container-id-6 div.sk-item {position: relative;z-index: 1;}#sk-container-id-6 div.sk-parallel {display: flex;align-items: stretch;justify-content: center;background-color: white;position: relative;}#sk-container-id-6 div.sk-item::before, #sk-container-id-6 div.sk-parallel-item::before {content: \"\";position: absolute;border-left: 1px solid gray;box-sizing: border-box;top: 0;bottom: 0;left: 50%;z-index: -1;}#sk-container-id-6 div.sk-parallel-item {display: flex;flex-direction: column;z-index: 1;position: relative;background-color: white;}#sk-container-id-6 div.sk-parallel-item:first-child::after {align-self: flex-end;width: 50%;}#sk-container-id-6 div.sk-parallel-item:last-child::after {align-self: flex-start;width: 50%;}#sk-container-id-6 div.sk-parallel-item:only-child::after {width: 0;}#sk-container-id-6 div.sk-dashed-wrapped {border: 1px dashed gray;margin: 0 0.4em 0.5em 0.4em;box-sizing: border-box;padding-bottom: 0.4em;background-color: white;}#sk-container-id-6 div.sk-label label {font-family: monospace;font-weight: bold;display: inline-block;line-height: 1.2em;}#sk-container-id-6 div.sk-label-container {text-align: center;}#sk-container-id-6 div.sk-container {/* jupyter's `normalize.less` sets `[hidden] { display: none; }` but bootstrap.min.css set `[hidden] { display: none !important; }` so we also need the `!important` here to be able to override the default hidden behavior on the sphinx rendered scikit-learn.org. See: https://github.com/scikit-learn/scikit-learn/issues/21755 */display: inline-block !important;position: relative;}#sk-container-id-6 div.sk-text-repr-fallback {display: none;}</style><div id=\"sk-container-id-6\" class=\"sk-top-container\"><div class=\"sk-text-repr-fallback\"><pre>Ridge()</pre><b>In a Jupyter environment, please rerun this cell to show the HTML representation or trust the notebook. <br />On GitHub, the HTML representation is unable to render, please try loading this page with nbviewer.org.</b></div><div class=\"sk-container\" hidden><div class=\"sk-item\"><div class=\"sk-estimator sk-toggleable\"><input class=\"sk-toggleable__control sk-hidden--visually\" id=\"sk-estimator-id-6\" type=\"checkbox\" checked><label for=\"sk-estimator-id-6\" class=\"sk-toggleable__label sk-toggleable__label-arrow\">Ridge</label><div class=\"sk-toggleable__content\"><pre>Ridge()</pre></div></div></div></div></div>"
      ],
      "text/plain": [
       "Ridge()"
      ]
     },
     "execution_count": 176,
     "metadata": {},
     "output_type": "execute_result"
    }
   ],
   "source": [
    "from sklearn.linear_model import Ridge\n",
    "regressor = Ridge()\n",
    "regressor.fit(train_X, train_y)"
   ]
  },
  {
   "cell_type": "markdown",
   "metadata": {},
   "source": [
    "How well the model fares in terms of MSE on the training set?"
   ]
  },
  {
   "cell_type": "code",
   "execution_count": 177,
   "metadata": {},
   "outputs": [
    {
     "data": {
      "text/plain": [
       "3459.8762718175135"
      ]
     },
     "execution_count": 177,
     "metadata": {},
     "output_type": "execute_result"
    }
   ],
   "source": [
    "pred = regressor.predict(train_X)\n",
    "mse(train_y, pred)"
   ]
  },
  {
   "cell_type": "markdown",
   "metadata": {},
   "source": [
    "And on the validation set?"
   ]
  },
  {
   "cell_type": "code",
   "execution_count": 178,
   "metadata": {},
   "outputs": [
    {
     "data": {
      "text/plain": [
       "3121.3306596153916"
      ]
     },
     "execution_count": 178,
     "metadata": {},
     "output_type": "execute_result"
    }
   ],
   "source": [
    "pred = regressor.predict(val_X)\n",
    "mse(val_y, pred)"
   ]
  },
  {
   "cell_type": "markdown",
   "metadata": {},
   "source": [
    "Now let's see what happens if we use a different value of the hyperparameter $\\alpha$"
   ]
  },
  {
   "cell_type": "code",
   "execution_count": 179,
   "metadata": {},
   "outputs": [
    {
     "name": "stdout",
     "output_type": "stream",
     "text": [
      "MSE on training: 5304.004155582988\n",
      "MSE on validation: 4051.263093859394\n"
     ]
    }
   ],
   "source": [
    "regressor = Ridge(alpha=10)\n",
    "regressor.fit(train_X, train_y)\n",
    "print(\"MSE on training:\", mse(train_y, regressor.predict(train_X)))\n",
    "print(\"MSE on validation:\", mse(val_y, regressor.predict(val_X)))"
   ]
  },
  {
   "cell_type": "markdown",
   "metadata": {},
   "source": [
    "## Task 4: Hyperparameter optimization using the validation set"
   ]
  },
  {
   "cell_type": "markdown",
   "metadata": {},
   "source": [
    "As you can see, the resulting values are very different. **Complete the function** below with some strategy to find the best value of the hyperparmeter `alpha` with respect to the mean-squared error `mse` on the validation set given as the parameters `val_X`, `val_y`. Use `train_X` and `train_y` as the training set. Return the best value of alpha. The strategy is up to you: you can use some set of fixed values, you can do something more elaborate. If you decide to use a fixed set of values, consider the cost function of the ridge regression and try to come up with a reasonable set of values (e.g., picking `[1, 1.1, 1.2]` is probably not that intersting)"
   ]
  },
  {
   "cell_type": "code",
   "execution_count": 249,
   "metadata": {},
   "outputs": [],
   "source": [
    "def alpha_optimization(train_X, train_y, val_X, val_y) -> float:\n",
    "    step = .01\n",
    "    best_alpha = np.random.random() * 10\n",
    "    regressor = Ridge(alpha = best_alpha)\n",
    "    regressor.fit(train_X, train_y)\n",
    "    best_mse = mse(val_y, regressor.predict(val_X))\n",
    "    cur_mse = best_mse\n",
    "    \n",
    "    while cur_mse <= best_mse:\n",
    "        for cur_alpha in (best_alpha-step, best_alpha+step):\n",
    "            regressor = Ridge(alpha=cur_alpha)\n",
    "            regressor.fit(train_X, train_y)\n",
    "            cur_mse = mse(val_y, regressor.predict(val_X))\n",
    "            if cur_mse < best_mse:\n",
    "                best_alpha = cur_alpha\n",
    "                best_mse = cur_mse\n",
    "                break #simple way to make this local search greedy\n",
    "        \n",
    "    return best_alpha"
   ]
  },
  {
   "cell_type": "code",
   "execution_count": 270,
   "metadata": {},
   "outputs": [
    {
     "name": "stdout",
     "output_type": "stream",
     "text": [
      "The best alpha is 0.46349914911787726\n"
     ]
    }
   ],
   "source": [
    "best_alpha = alpha_optimization(train_X, train_y, val_X, val_y)\n",
    "print(\"The best alpha is\", best_alpha)"
   ]
  },
  {
   "cell_type": "markdown",
   "metadata": {},
   "source": [
    "## Task 5: Using the test set"
   ]
  },
  {
   "cell_type": "markdown",
   "metadata": {},
   "source": [
    "Finally, let's use the test set! We will train a regressor using the best alpha and then evaluate it on all three sets. However, before we do it, **write in the cell below your prediction**: will MSE on the test set be better or worse than on the validation set?"
   ]
  },
  {
   "cell_type": "markdown",
   "metadata": {},
   "source": [
    "**I predict that:** MSE should be a bit higher than on validation set and train set because the hyper parameters were tuned according to validation set, so they may not be optimal for population"
   ]
  },
  {
   "cell_type": "code",
   "execution_count": 271,
   "metadata": {},
   "outputs": [
    {
     "name": "stdout",
     "output_type": "stream",
     "text": [
      "MSE on training: 3109.6572053055693\n",
      "MSE on validation: 3055.9508940835585\n",
      "MSE on test: 2937.9639118091277\n"
     ]
    }
   ],
   "source": [
    "regressor = Ridge(alpha=best_alpha)\n",
    "regressor.fit(train_X, train_y)\n",
    "print(\"MSE on training:\", mse(train_y, regressor.predict(train_X)))\n",
    "print(\"MSE on validation:\", mse(val_y, regressor.predict(val_X)))\n",
    "print(\"MSE on test:\", mse(test_y, regressor.predict(test_X)))"
   ]
  },
  {
   "cell_type": "markdown",
   "metadata": {},
   "source": [
    "**Is the result consistent with your prediction, or did something surprise you? Comment on the result in the cell below.**"
   ]
  },
  {
   "cell_type": "markdown",
   "metadata": {},
   "source": [
    "No, the outcomes are different than I expected. It turns out that the test set has the smallest MSE. It think this happened because of luck (I've tried on different data splits and the decreasing pattern doesn't occur)."
   ]
  },
  {
   "cell_type": "code",
   "execution_count": null,
   "metadata": {},
   "outputs": [],
   "source": []
  }
 ],
 "metadata": {
  "anaconda-cloud": {},
  "kernelspec": {
   "display_name": "Python 3 (ipykernel)",
   "language": "python",
   "name": "python3"
  },
  "language_info": {
   "codemirror_mode": {
    "name": "ipython",
    "version": 3
   },
   "file_extension": ".py",
   "mimetype": "text/x-python",
   "name": "python",
   "nbconvert_exporter": "python",
   "pygments_lexer": "ipython3",
   "version": "3.10.9"
  }
 },
 "nbformat": 4,
 "nbformat_minor": 4
}

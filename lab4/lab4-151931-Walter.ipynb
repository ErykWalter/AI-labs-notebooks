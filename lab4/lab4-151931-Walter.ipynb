{
 "cells": [
  {
   "cell_type": "markdown",
   "metadata": {},
   "source": [
    "# Constraint satisfaction problem"
   ]
  },
  {
   "cell_type": "markdown",
   "metadata": {},
   "source": [
    "In the previous tasks the state was opaque: an algorithm could execute an action and transform a state to another state, but that was it. It could not depend in its search on the details of a state, because the state representation was different from problem to problem. In CSP this is no longer true: the state always consists of an assignment of values over some domains to variables. This enables an algorithm to interact with the state directly, not only through opaque actions. \n",
    "\n",
    "Allowed assignments are limited by constraints in the problem and broadly speaking they can be divided into three groups:\n",
    "\n",
    "* *Unary constraints* each concerning only a single variable (e.g., $x>0$)\n",
    "* *Binary constraints* relating two variables to each other (e.g., $x>y$)\n",
    "* *General constraints* concerning more than two variables at once\n",
    "\n",
    "In general, the shape of constraints is unrestricted and we are not limited to numeric domains and constraints in the form of inequalities. In principle, one could employ arbitrary boolean functions as constraints.\n",
    "\n",
    "The following class `CSP` is a very limited representation of such a problem capable only of handling:\n",
    "\n",
    "* finite domains that can be materialized (e.g., the set of all 32-bit integers is doable in theory; the set of all 64-bit integers is out of reach) \n",
    "* unary constraints by setting the domain of a variable appropriately;\n",
    "* binary constraints defined in terms of Python's operators `==`, `!=`, `<`, `<=`, `>` and `>=` such that both sides are variables.\n",
    "\n",
    "About its methods:\n",
    "\n",
    "* The constructor (`__init__`) requires no arguments.\n",
    "* `addVariable` requires two arguments: \n",
    "    * `var` - a variable (a string representing its name, but really, it could be any object);\n",
    "    * `domain` - a collection of the allowed values for the variable\n",
    "* `addBinaryConstraint` also requires three arguments:\n",
    "    * `var1` - a variable, the left-hand side of the constraint\n",
    "    * `op` - an operator (one of the following strings: `'=='`, `'!='`, `'<'`, `'<='`, `'>'`, `'>='`)\n",
    "    * `var2` - a variable, the right-hand side of the constraint\n",
    "* `verify` is used to verify whether the relation given by the second argument `op` holds between the values given as the first argument `left` and the third argument `right`. Returns `True` if it does and `False` otherwise.\n",
    "* `is_complete` gets a single argument: a dictionary representing an assignment of values to variables. From now on, we call such a dictionary an *assignment*. It returns `True` if all the variables of the problem are present in the dictionary, and `False` otherwise.\n",
    "* `is_consistent` also requries an assignment. It returns `True` if all the values in the assignment are such that they come from the respecitve domains, and no binary constrain is violated (but if the assignment is not complete then some may be unfulfilled)."
   ]
  },
  {
   "cell_type": "code",
   "execution_count": 37,
   "metadata": {},
   "outputs": [],
   "source": [
    "class CSP:\n",
    "    def __init__(self):\n",
    "        self.domains = {}\n",
    "        self.binary = []\n",
    "    \n",
    "    def addVariable(self, var, domain):        \n",
    "        assert var not in self.domains\n",
    "        self.domains[var] = set(domain)\n",
    "        \n",
    "    def addBinaryConstraint(self, var1, operator, var2):\n",
    "        assert var1 in self.domains\n",
    "        assert var2 in self.domains\n",
    "        c = (var1, operator, var2)\n",
    "        self.binary.append(c)      \n",
    "        \n",
    "    def verify(self, left, op, right):\n",
    "        if op[0] == '=':\n",
    "            return left == right\n",
    "        if op == '!=':\n",
    "            return left != right\n",
    "        if op == '<':\n",
    "            return left < right\n",
    "        if op == '<=':\n",
    "            return left <= right\n",
    "        if op == '>':\n",
    "            return left > right\n",
    "        if op == '>=':\n",
    "            return left >= right\n",
    "        \n",
    "    def is_complete(self, assignment):\n",
    "        return self.domains.keys() <= assignment.keys() \n",
    "        \n",
    "    def is_consistent(self, assignment):\n",
    "        for var, value in assignment.items():            \n",
    "            if value not in self.domains[var]:\n",
    "                return False\n",
    "        for var1, op, var2 in self.binary:\n",
    "            if var1 in assignment and var2 in assignment:\n",
    "                if not self.verify(assignment[var1], op, assignment[var2]):\n",
    "                    return False\n",
    "        return True"
   ]
  },
  {
   "cell_type": "markdown",
   "metadata": {},
   "source": [
    "## Making Australia colorful again"
   ]
  },
  {
   "cell_type": "markdown",
   "metadata": {},
   "source": [
    "Lets model a map coloring problem. In particular, we'll color the following map of Australia. It can be simplified to a graph presented in the right-hand side of the picture below.\n",
    "\n",
    "![](aima-images/fig_6_1.png)"
   ]
  },
  {
   "cell_type": "markdown",
   "metadata": {},
   "source": [
    "We begin by creating a new problem in the variable `australia` over the domain consisting of three values: `'R'` statnding for the color red, `'G'` standing for green and `'B'` standing for blue. Of course the particular symbols used are not relevant. There are 7 teritories, so we add 7 variables to the problem."
   ]
  },
  {
   "cell_type": "code",
   "execution_count": 38,
   "metadata": {},
   "outputs": [],
   "source": [
    "australia = CSP()\n",
    "australia.addVariable('WA', {'R', 'G', 'B'})\n",
    "australia.addVariable('NT', {'R', 'G', 'B'})\n",
    "australia.addVariable('SA', {'R', 'G', 'B'})\n",
    "australia.addVariable('Q', {'R', 'G', 'B'})\n",
    "australia.addVariable('NSW', {'R', 'G', 'B'})\n",
    "australia.addVariable('V', {'R', 'G', 'B'})\n",
    "australia.addVariable('T', {'R', 'G', 'B'})"
   ]
  },
  {
   "cell_type": "markdown",
   "metadata": {},
   "source": [
    "Any two teritories of Australia sharing a border should be colored using different colours. We thus define 9 binary constraints."
   ]
  },
  {
   "cell_type": "code",
   "execution_count": 39,
   "metadata": {},
   "outputs": [
    {
     "name": "stdout",
     "output_type": "stream",
     "text": [
      "[('WA', '!=', 'NT'), ('WA', '!=', 'SA'), ('NT', '!=', 'SA'), ('NT', '!=', 'Q'), ('SA', '!=', 'Q'), ('SA', '!=', 'NSW'), ('SA', '!=', 'V'), ('Q', '!=', 'NSW'), ('NSW', '!=', 'V')]\n"
     ]
    }
   ],
   "source": [
    "australia.addBinaryConstraint('WA', '!=', 'NT')\n",
    "australia.addBinaryConstraint('WA', '!=', 'SA')\n",
    "australia.addBinaryConstraint('NT', '!=', 'SA')\n",
    "australia.addBinaryConstraint('NT', '!=', 'Q')\n",
    "australia.addBinaryConstraint('SA', '!=', 'Q')\n",
    "australia.addBinaryConstraint('SA', '!=', 'NSW')\n",
    "australia.addBinaryConstraint('SA', '!=', 'V')\n",
    "australia.addBinaryConstraint('Q', '!=', 'NSW')\n",
    "australia.addBinaryConstraint('NSW', '!=', 'V')\n",
    "print(australia.binary)"
   ]
  },
  {
   "cell_type": "markdown",
   "metadata": {},
   "source": [
    "Let's see how the `verify` method works."
   ]
  },
  {
   "cell_type": "code",
   "execution_count": 40,
   "metadata": {},
   "outputs": [
    {
     "name": "stdout",
     "output_type": "stream",
     "text": [
      "Is G=G? True\n",
      "Is 5<7? True\n",
      "Is 5>=7? False\n"
     ]
    }
   ],
   "source": [
    "print(\"Is G=G?\", australia.verify('G', '==', 'G'))\n",
    "print(\"Is 5<7?\", australia.verify(5, '<', 7))\n",
    "print(\"Is 5>=7?\", australia.verify(5, '>=', 7))"
   ]
  },
  {
   "cell_type": "markdown",
   "metadata": {},
   "source": [
    "Lets now consider an assignment such that *Western Australia* is red and the rest is unspecified. Is it a consistent assignment?"
   ]
  },
  {
   "cell_type": "code",
   "execution_count": 41,
   "metadata": {},
   "outputs": [
    {
     "data": {
      "text/plain": [
       "True"
      ]
     },
     "execution_count": 41,
     "metadata": {},
     "output_type": "execute_result"
    }
   ],
   "source": [
    "australia.is_consistent({'WA': 'R'})"
   ]
  },
  {
   "cell_type": "markdown",
   "metadata": {},
   "source": [
    "Is it a complete assignment?"
   ]
  },
  {
   "cell_type": "code",
   "execution_count": 42,
   "metadata": {},
   "outputs": [
    {
     "data": {
      "text/plain": [
       "False"
      ]
     },
     "execution_count": 42,
     "metadata": {},
     "output_type": "execute_result"
    }
   ],
   "source": [
    "australia.is_complete({'WA': 'R'})"
   ]
  },
  {
   "cell_type": "markdown",
   "metadata": {},
   "source": [
    "As expected it didn't work: there are still 9 unfulfiled constraints. So lets extend the solution."
   ]
  },
  {
   "cell_type": "code",
   "execution_count": 43,
   "metadata": {},
   "outputs": [
    {
     "name": "stdout",
     "output_type": "stream",
     "text": [
      "Is consistent? True\n",
      "Is complete? False\n"
     ]
    }
   ],
   "source": [
    "assignment = {'WA': 'R', 'Q': 'R', 'V': 'R', 'NT': 'B', 'NSW': 'B', 'SA': 'G'}\n",
    "print(\"Is consistent?\", australia.is_consistent(assignment))\n",
    "print(\"Is complete?\", australia.is_complete(assignment))"
   ]
  },
  {
   "cell_type": "markdown",
   "metadata": {},
   "source": [
    "Now it almost works: all the constraints are satisfied, but the solution is still not complete, as Tasmania is still colorless."
   ]
  },
  {
   "cell_type": "code",
   "execution_count": 44,
   "metadata": {},
   "outputs": [
    {
     "name": "stdout",
     "output_type": "stream",
     "text": [
      "Is consistent? True\n",
      "Is complete? True\n"
     ]
    }
   ],
   "source": [
    "assignment = {'WA': 'R', 'Q': 'R', 'V': 'R', 'NT': 'B', 'NSW': 'B', 'SA': 'G', 'T': 'B'}\n",
    "print(\"Is consistent?\", australia.is_consistent(assignment))\n",
    "print(\"Is complete?\", australia.is_complete(assignment))"
   ]
  },
  {
   "cell_type": "markdown",
   "metadata": {},
   "source": [
    "Finally, we have manually collored the map of Australia! Now let's make computer do this for us."
   ]
  },
  {
   "cell_type": "markdown",
   "metadata": {},
   "source": [
    "## Task 1: Backtracking"
   ]
  },
  {
   "cell_type": "markdown",
   "metadata": {},
   "source": [
    "Complete the following cell of code by implementing the recursive backtracking algorithm. Basically, it is a recursive DFS where an action is assigning a value to a variable. Avoid making copies of assignments, instead operate on a single assignment, and update it accordingly. Increment `self.counter` every time you check wheter an assigment is a solution (i.e., is consistent and complete). Use the provided methods `select_unassigned_variable` and `order_domain_values` to, respectively, get a next variable to assign a value to, and to get the list of allowed values for the variable. `solve` should return a solution (i.e., a complete, consistent assignment) or `None`."
   ]
  },
  {
   "cell_type": "code",
   "execution_count": 45,
   "metadata": {},
   "outputs": [],
   "source": [
    "class RecursiveBacktracking:\n",
    "    def __init__(self, csp):\n",
    "        self.csp = csp\n",
    "        self.counter = 0\n",
    "        \n",
    "    def select_unassigned_variable(self, assignment):\n",
    "        for var in self.csp.domains.keys():\n",
    "            if var not in assignment:\n",
    "                return var\n",
    "        return None\n",
    "    \n",
    "    def order_domain_values(self, variable, assignment):\n",
    "        return self.csp.domains[variable]\n",
    "        \n",
    "    \n",
    "    def solve(self):\n",
    "        self.counter = 0\n",
    "        assignment = {}\n",
    "        #visited_assignments = set()\n",
    "        \n",
    "        return self.solve_recur(assignment)\n",
    "        \n",
    "    def solve_recur(self, assignment):\n",
    "#         self.counter += 1\n",
    "        if self.csp.is_complete(assignment):\n",
    "            return assignment\n",
    "        #print(\"\\nAssignment: \", len(assignment))\n",
    "        key = self.select_unassigned_variable(assignment)\n",
    "        domain = self.order_domain_values(key, assignment)\n",
    "        #print(f\"Variable to assign: {key} which has domain: {domain}\")\n",
    "        for val in domain:\n",
    "            #print(f\"Variable to assign: {key}, value to assign: {val}\")\n",
    "            if val:\n",
    "                \"\"\"avoids errors when there would not be values in the domain\"\"\"\n",
    "                assignment[key] = val\n",
    "                #print(\"new assignment: \", len(assignment))\n",
    "\n",
    "                self.counter += 1\n",
    "                if self.csp.is_consistent(assignment):\n",
    "                    #print(\"new assignment is consistent\")\n",
    "                    #visited_assignments.add(tuple(assignment))\n",
    "                    new_assignment = self.solve_recur(assignment)\n",
    "\n",
    "                    if new_assignment:\n",
    "                        return new_assignment\n",
    "                    \n",
    "                    if assignment:\n",
    "                        assignment.popitem()\n",
    "            #print(f\"\\t{val} was not a right value for {key}\")\n",
    "            \n",
    "        return None"
   ]
  },
  {
   "cell_type": "markdown",
   "metadata": {},
   "source": [
    "Let's test it on the Australia problem! In the cell below you should get a consistent, complete assignment, i.e., a solution to the problem."
   ]
  },
  {
   "cell_type": "code",
   "execution_count": 46,
   "metadata": {},
   "outputs": [
    {
     "name": "stdout",
     "output_type": "stream",
     "text": [
      "Assignment {'WA': 'R', 'NT': 'G', 'SA': 'B', 'Q': 'R', 'NSW': 'G', 'V': 'R', 'T': 'R'}\n",
      "Is consistent? True\n",
      "Is complete? True\n",
      "# considered assignments 11\n"
     ]
    }
   ],
   "source": [
    "solver = RecursiveBacktracking(australia)\n",
    "assignment = solver.solve()\n",
    "print(\"Assignment\", assignment)\n",
    "print(\"Is consistent?\", australia.is_consistent(assignment))\n",
    "print(\"Is complete?\", australia.is_complete(assignment))\n",
    "print(\"# considered assignments\", solver.counter)"
   ]
  },
  {
   "cell_type": "markdown",
   "metadata": {},
   "source": [
    "## Task 2: Extend `RecursiveBacktracking` with the MRV and degree heuristics"
   ]
  },
  {
   "cell_type": "markdown",
   "metadata": {},
   "source": [
    "Modify your `RecursiveBacktracking` to include the MRV (minimum remaining values) heuristics and the degree heuristics. Implement them in the appropriate places below in the class `RecursiveBacktrackingWithHeuristics`. If you want, you can also implement the least constraining value heuristics, but this is not mandatory. Follow the same assumptions as for `RecursiveBacktracking`, so expose the main backtracking algorithm as the `solve` and keep track of the number of considered assignments in the `counter` variable."
   ]
  },
  {
   "cell_type": "code",
   "execution_count": 47,
   "metadata": {},
   "outputs": [],
   "source": [
    "import math\n",
    "import operator"
   ]
  },
  {
   "cell_type": "code",
   "execution_count": 48,
   "metadata": {},
   "outputs": [],
   "source": [
    "class RecursiveBacktrackingWithHeuristics(RecursiveBacktracking):\n",
    "    \n",
    "    def get_constrains_with_given_variable(self, variable):\n",
    "        return list(filter(lambda constraint: constraint[0] == variable or constraint[2] == variable,\n",
    "                                           self.csp.binary))\n",
    "    \n",
    "    def get_possible_values_and_constraints(self, variable, assignment):\n",
    "        domain = self.csp.domains[variable]\n",
    "        \n",
    "        constrains_for_var = self.get_constrains_with_given_variable(variable)\n",
    "#         print(assignment)\n",
    "        for var1, op, var2 in constrains_for_var:\n",
    "#             print(var1, op, var2)\n",
    "            new_domain = set(domain)\n",
    "            if var1 == variable and var2 in assignment:\n",
    "#                 print(\"var2 in assignment\")\n",
    "                val_in_assignment = assignment[var2]\n",
    "#                 print(domain, op, val_in_assignment)\n",
    "                #domain = filter(lambda val: self.csp.verify(val, op, val_in_assignment), domain)\n",
    "                #I've really tried to make the filter work but I resign in the end\n",
    "                domain = {val if self.csp.verify(val_in_assignment, op, val) else None for val in domain}\n",
    "                \n",
    "            elif var1 in assignment:\n",
    "#                 print(\"var1 in assignment\")\n",
    "                val_in_assignment = assignment[var1]\n",
    "#                 print(domain, op, val_in_assignment)\n",
    "#                 domain = filter(lambda val: self.csp.verify(val_in_assignment, op, var2), domain)\n",
    "                domain = {val if self.csp.verify(val_in_assignment, op, val) else None for val in domain}\n",
    "\n",
    "#             else:\n",
    "#                 print(\"no variable in assignment\")\n",
    "\n",
    "#             print(\"Changed domain: \",new_domain)\n",
    "        \n",
    "#         print(\"Final domain: \", domain)\n",
    "        try:\n",
    "            domain.remove(None)\n",
    "        except:\n",
    "            pass\n",
    "        return (domain, constrains_for_var) \n",
    "\n",
    "        \n",
    "    def select_unassigned_variable(self, assignment):\n",
    "        #this MRV is not efficient at all but this is because I tried to avoid forward propagation\n",
    "        #with forward propagation it would be just enough to count number of values in domain of given variable \n",
    "        to_assign = dict()\n",
    "        min_remaining_val = math.inf\n",
    "        for variable in self.csp.domains.keys():\n",
    "            if variable not in assignment:\n",
    "                #assigning number of possible values for a given variable\n",
    "                domain, constrains_for_var = self.get_possible_values_and_constraints(variable, assignment)\n",
    "                \n",
    "                if not domain:\n",
    "                    return variable\n",
    "                \n",
    "                num_of_constraints = len(constrains_for_var)\n",
    "                num_of_values = len(domain)\n",
    "                min_remaining_val = min(num_of_values, min_remaining_val)\n",
    "                \n",
    "                if num_of_values <= min_remaining_val:\n",
    "                    to_assign[variable] = (num_of_values, num_of_constraints)\n",
    "        \n",
    "#         print(min_remaining_val, to_assign)\n",
    "        #filtering out those variables which has not the min number of feasible values\n",
    "        vars_to_consider = list(filter(lambda var: to_assign[var][0]  == min_remaining_val, to_assign))\n",
    "        #setting a variable as this with maximal number of constraints on other variables\n",
    "        variable = max(vars_to_consider, key=lambda var: to_assign[var][1])\n",
    "        return variable\n",
    "    \n",
    "    def order_domain_values(self, variable, assignment):\n",
    "        domain, constaints = self.get_possible_values_and_constraints(variable, assignment)\n",
    "        \n",
    "        return domain\n",
    "    "
   ]
  },
  {
   "cell_type": "markdown",
   "metadata": {},
   "source": [
    "Lets test your implementation by solving the problem of coloring Australia!"
   ]
  },
  {
   "cell_type": "code",
   "execution_count": 49,
   "metadata": {},
   "outputs": [
    {
     "name": "stdout",
     "output_type": "stream",
     "text": [
      "Assignment {'SA': 'R', 'NT': 'B', 'Q': 'G', 'NSW': 'B', 'WA': 'G', 'V': 'G', 'T': 'R'}\n",
      "Is consistent? True\n",
      "Is complete? True\n",
      "# considered assignments 7\n"
     ]
    }
   ],
   "source": [
    "solver = RecursiveBacktrackingWithHeuristics(australia)\n",
    "assignment = solver.solve()\n",
    "\n",
    "print(\"Assignment\", assignment)\n",
    "print(\"Is consistent?\", australia.is_consistent(assignment))\n",
    "print(\"Is complete?\", australia.is_complete(assignment))\n",
    "print(\"# considered assignments\", solver.counter)"
   ]
  },
  {
   "cell_type": "markdown",
   "metadata": {},
   "source": [
    "**Compare the number of considered assignments for `RecursiveBacktracking` and `RecursiveBacktrackingWithHeuristics`. How do they differ? Why do you think is that?**"
   ]
  },
  {
   "cell_type": "markdown",
   "metadata": {},
   "source": [
    "The recursive backtracking with heuristic has figured out the proper assignment within the first try, so it is definately better than this one without heuristic. The reason why it happened is quite simple. Firstival, the variables are assigned such that those which has biggest priority (least number of acceptable values) goes first. Secondly, in `order_domain_values` method I consider just acceptable values."
   ]
  },
  {
   "cell_type": "markdown",
   "metadata": {},
   "source": [
    "## Sudoku!\n",
    "\n",
    "Coloring Australia is really a bit boring. Lets deal with something more exciting: SUDOKU! I assume you know the rules, but if you don't, go look them up, spend some time solving a few puzzles and familiarize yourself with the puzzle.\n",
    "The cell below defines a string `puzzle` which represents a Sudoku puzzle from the picture below. A digit in `puzzle` corresponds to a digit in the puzzle, while an underscore `_` corresponds to a blank cell in the puzzle. For your convenience there's also variable `solution` containing the correct solution to this particular puzzle.\n",
    "\n",
    "![](aima-images/fig_6_4.png)"
   ]
  },
  {
   "cell_type": "code",
   "execution_count": 50,
   "metadata": {
    "scrolled": true
   },
   "outputs": [],
   "source": [
    "# puzzle = '''\n",
    "# __3_2_6__\n",
    "# 9__3_5__1\n",
    "# __18_64__\n",
    "# __81_29__\n",
    "# 7_______8\n",
    "# __67_82__\n",
    "# __26_95__\n",
    "# 8__2_3__9\n",
    "# __5_1_3__\n",
    "# '''\n",
    "puzzle = '''\n",
    "8________\n",
    "__36_____\n",
    "_7__9_2__\n",
    "_5___7___\n",
    "____457__\n",
    "___1___3_\n",
    "__1____68\n",
    "__85___1_\n",
    "_9____4__\n",
    "'''"
   ]
  },
  {
   "cell_type": "code",
   "execution_count": 51,
   "metadata": {},
   "outputs": [],
   "source": [
    "solution = '''\n",
    "483921657\n",
    "967345821\n",
    "251876493\n",
    "548132976\n",
    "729564138\n",
    "136798245\n",
    "372689514\n",
    "814253769\n",
    "695417382\n",
    "'''"
   ]
  },
  {
   "cell_type": "markdown",
   "metadata": {},
   "source": [
    "## Task 3: Sudoku as CSP"
   ]
  },
  {
   "cell_type": "markdown",
   "metadata": {},
   "source": [
    "Using the string `puzzle` defined above write in the cell below code that will add all the necessary constraints to the CSP represented by the variable `sudoku`. If you can and want, write a parser that will construct the CSP from a string representation of the puzzle. Otherwise, you can construct the problem manually."
   ]
  },
  {
   "cell_type": "code",
   "execution_count": 52,
   "metadata": {},
   "outputs": [],
   "source": [
    "sudoku = CSP()\n",
    "\n",
    "def assignment_to_string(assignment):\n",
    "    puzzle_map = {(x, y):0 for x in range(9) for y in range(9)}\n",
    "    result = []\n",
    "    for key, val in assignment.items():\n",
    "        puzzle_map[key] = val\n",
    "    for idx, (key, val) in enumerate(puzzle_map.items()):\n",
    "        if not (idx)%9:\n",
    "            result.append('\\n')\n",
    "        result.append(str(val))\n",
    "    result.append('\\n')\n",
    "    return ''.join(result)\n",
    "\n",
    "def check_solution(assignment_string, solution):\n",
    "    res = []\n",
    "    for idx in range(len(solution)):\n",
    "        if assignment_string[idx] == solution[idx]:\n",
    "            res.append(assignment_string[idx])\n",
    "        else:\n",
    "            print(f\"Differs at idx: {idx}, in assignment: {assignment_string[idx]}, in solution{solution[idx]}\")\n",
    "            print(''.join(res))\n",
    "            return False\n",
    "    return True\n",
    "\n",
    "def parser(csp, puzzle):\n",
    "    puzzle_map = {(x, y): set(range(1,10)) for x in range(9) for y in range(9)}\n",
    "    formatted_puzzle = puzzle.split()\n",
    "    \n",
    "    for pos in puzzle_map:\n",
    "        row, col = pos\n",
    "#         print(pos)\n",
    "        if formatted_puzzle[row][col] != '_':\n",
    "            val = int(formatted_puzzle[row][col])\n",
    "            puzzle_map[pos] = {val}\n",
    "            \n",
    "            #deleting value for whole row\n",
    "            for c in range(9):\n",
    "                if c != col:\n",
    "                    try:\n",
    "                        puzzle_map[(row,c)].remove(val)\n",
    "                    except:\n",
    "    #                     print(\"You've tried to remove value from position at which value is predefined by puzzle\")\n",
    "                        pass\n",
    "            \n",
    "            #deleting value in whole column\n",
    "            for r in range(9):\n",
    "                if r != row:\n",
    "                    try:\n",
    "                        puzzle_map[(r,col)].remove(val)\n",
    "                    except:\n",
    "    #                     print(f\"You've tried to remove value which is given at pos: ({r}, {col}) with \" )\n",
    "                        pass\n",
    "            \n",
    "            #deleting value in the squarefor \n",
    "            for r in range(row-row%3, row-row%3 + 3):\n",
    "                for c in range(col - col%3, col - col%3 + 3):\n",
    "                    if r != row and c != col:\n",
    "                        try:\n",
    "                            puzzle_map[(r, c)].remove(val)\n",
    "                        except:\n",
    "                            #removing value which is none type\n",
    "                            pass\n",
    "    \n",
    "    constraints = set()\n",
    "    for pos in puzzle_map:\n",
    "        \n",
    "        row, col = pos\n",
    "        op = '!='\n",
    "            \n",
    "        #constraints for row\n",
    "        for c in range(9):\n",
    "            if c != col and (pos, op, (row, c)) not in constraints and ((row,c), op, pos) not in constraints:\n",
    "                constraints.add((pos, op, (row, c)))\n",
    "\n",
    "        #constraints for column\n",
    "        for r in range(9):\n",
    "            if r != row and (pos, op, (r, col)) not in constraints and ((r,col), op, pos) not in constraints:\n",
    "                constraints.add((pos, op, (r, col)))\n",
    "\n",
    "        #deleting value in the squarefor \n",
    "        for r in range(row-row%3, row-row%3 + 3):\n",
    "            for c in range(col - col%3, col - col%3 + 3):\n",
    "                if r != row and c != col:\n",
    "                    if (pos, op, (r, c)) not in constraints and ((r,c), op, pos) not in constraints:\n",
    "                        constraints.add((pos, op, (r, c)))\n",
    "\n",
    "    for pos, domain in puzzle_map.items():\n",
    "        sudoku.addVariable(pos, domain)\n",
    "    \n",
    "    for var1, op, var2 in constraints:\n",
    "        sudoku.addBinaryConstraint(var1, op, var2)\n",
    "                        \n",
    "    return puzzle_map\n",
    "\n",
    "puzzle_map = parser(sudoku, puzzle)\n",
    "# formatted_puzzle = puzzle.split()\n",
    "# for key, value in puzzle_map.items():\n",
    "#     print(f\"Key: {key}, value in puzzle: {formatted_puzzle[key[0]][key[1]]} domain: {value}\")"
   ]
  },
  {
   "cell_type": "markdown",
   "metadata": {},
   "source": [
    "Let's see if it works... Unless you did some clever tricks and/or are quite patient - it does not, it is too slow."
   ]
  },
  {
   "cell_type": "code",
   "execution_count": 53,
   "metadata": {},
   "outputs": [
    {
     "name": "stdout",
     "output_type": "stream",
     "text": [
      "CPU times: user 6.01 s, sys: 6.65 ms, total: 6.02 s\n",
      "Wall time: 6.01 s\n",
      "Assignment: \n",
      "812753649\n",
      "943682175\n",
      "675491283\n",
      "154237896\n",
      "369845721\n",
      "287169534\n",
      "521974368\n",
      "438526917\n",
      "796318452\n",
      "\n",
      "Is consistent? True\n",
      "Is complete? True\n",
      "# considered assignments 1394\n"
     ]
    }
   ],
   "source": [
    "solver = RecursiveBacktrackingWithHeuristics(sudoku)\n",
    "%time assignment = solver.solve()\n",
    "print(\"Assignment:\", assignment_to_string(assignment))\n",
    "print(\"Is consistent?\", sudoku.is_consistent(assignment))\n",
    "print(\"Is complete?\", sudoku.is_complete(assignment))\n",
    "print(\"# considered assignments\", solver.counter) "
   ]
  },
  {
   "cell_type": "markdown",
   "metadata": {},
   "source": [
    "## Task 4: Solving sudoku"
   ]
  },
  {
   "cell_type": "markdown",
   "metadata": {},
   "source": [
    "In order to make it working, we need to extend backtracking with inference. Complete the following class `RecursiveBacktrackingWithAC3` in such a way that it uses the same heuristics as `RecursiveBacktrackingWithHeuristics` and on top of that uses the AC3 algorithm after a new value is added to the assignment.\n",
    "\n",
    "In this task, you don't need to stick to the previous API with method. A constructor with a single argument, and an argumentless `solve` are sufficient, heuristics and AC3 can be handled however you want."
   ]
  },
  {
   "cell_type": "code",
   "execution_count": 54,
   "metadata": {},
   "outputs": [],
   "source": [
    "import copy\n",
    "from collections import deque"
   ]
  },
  {
   "cell_type": "code",
   "execution_count": 55,
   "metadata": {},
   "outputs": [],
   "source": [
    "class RecursiveBacktrackingWithAC3(RecursiveBacktrackingWithHeuristics):\n",
    "    def __init__(self, csp):\n",
    "        self.csp = csp\n",
    "        self.counter = 0\n",
    "        \n",
    "    def AC3(self, domains):\n",
    "        constraints = deque(self.csp.binary)\n",
    "        while constraints:\n",
    "            constraint = constraints.popleft()\n",
    "            var1, op, var2 = constraint\n",
    "            \n",
    "            if self.remove_incosistent_values(constraint, domains):\n",
    "                constraints_with_var1 = self.get_constrains_with_given_variable(var1)\n",
    "                \n",
    "                for constraint_to_reconsider in constraints_with_var1:\n",
    "                    constraints.append(constraint_to_reconsider)\n",
    "        \n",
    "    def remove_incosistent_values(self, constraint, domains):\n",
    "        removed = False\n",
    "        var1, op, var2 = constraint\n",
    "        domain1 = domains[var1]\n",
    "        domain2 = domains[var2]\n",
    "        values_to_remove = []\n",
    "        for value1 in domain1:\n",
    "            allowing_values = 0\n",
    "            for value2 in domain2:\n",
    "                \n",
    "#                 print(f\"Constraint: {constraint}; expression {value1} {op} {value2}; eval: {self.csp.verify(value1, op, value2)}\")\n",
    "                if not allowing_values and self.csp.verify(value1, op, value2):\n",
    "                    allowing_values+= 1\n",
    "            if not allowing_values:\n",
    "                values_to_remove.append(value1)\n",
    "        \n",
    "#         print(f\"Variables to remove: {values_to_remove}\")\n",
    "        if values_to_remove:\n",
    "            removed = True\n",
    "            for value in values_to_remove:\n",
    "                domain1.remove(value)\n",
    "        \n",
    "        domains[var1] = domain1\n",
    "        domain1 = domains[var1]\n",
    "        values_to_remove = []\n",
    "        \n",
    "        for value2 in domain2:\n",
    "            allowing_values = 0\n",
    "            for value1 in domain1:\n",
    "                \n",
    "#                 print(f\"Constraint: {constraint}; expression {value1} {op} {value2}; eval: {self.csp.verify(value1, op, value2)}\")\n",
    "                if not allowing_values and self.csp.verify(value1, op, value2):\n",
    "                    allowing_values+= 1\n",
    "            if not allowing_values:\n",
    "                values_to_remove.append(value2)\n",
    "        \n",
    "#         print(f\"Variables to remove: {values_to_remove}\")\n",
    "        if values_to_remove:\n",
    "            removed = True\n",
    "            for value in values_to_remove:\n",
    "                domain2.remove(value)\n",
    "        \n",
    "        domains[var2] = domain2\n",
    "                \n",
    "        return removed\n",
    "    \n",
    "    def select_unassigned_variable(self, assignment, domains):\n",
    "        variable = None\n",
    "        lengths_of_domains = {var:len(domain) for var, domain in domains.items() if var not in assignment}\n",
    "        min_domain_lenght = min(lengths_of_domains.values())\n",
    "        \n",
    "        variables_to_consider = list(filter(lambda x: x[1] == min_domain_lenght, lengths_of_domains.items()))\n",
    "        \n",
    "        if len(variables_to_consider) > 1 and min_domain_lenght > 0:\n",
    "            variable = max(variables_to_consider, \n",
    "                           key=lambda var: len(self.get_constrains_with_given_variable(var[0])))\n",
    "        else:\n",
    "            variable = variables_to_consider.pop()\n",
    "        \n",
    "        return variable[0]\n",
    "    \n",
    "    def order_domain_values(self, var, domains):\n",
    "        return domains[var]\n",
    "    \n",
    "    def forward_check(self, assignment, var, given_val, domains):\n",
    "        constraints = self.get_constrains_with_given_variable(var)\n",
    "        \n",
    "        for constraint in constraints:\n",
    "            var1, op, var2 = constraint\n",
    "            inconsistent_vals = set()\n",
    "#             print(\"\\tDomain before forward check: \", end='')\n",
    "            \n",
    "            if var1 == var and var2 not in assignment:\n",
    "#                 print(domains[var2], \" first\", var2)\n",
    "                for value in domains[var2]:\n",
    "                    if not self.csp.verify(given_val, op, value):\n",
    "                        inconsistent_vals.add(value)\n",
    "                domains[var2] -= inconsistent_vals\n",
    "#                 print(f\"\\tDomain after check: {domains[var2]}\")\n",
    "                \n",
    "            elif var1 not in assignment:\n",
    "#                 print(domains[var1], \" second\", var1)\n",
    "                for value in domains[var1]:\n",
    "                    if not self.csp.verify(value, op, given_val):\n",
    "                        inconsistent_vals.add(value)\n",
    "                domains[var1] -= inconsistent_vals\n",
    "#                 print(f\"\\tDomain after check: {domains[var1]}\")\n",
    "#             print(f\"\\tIncosistent values: {inconsistent_vals}\")\n",
    "        \n",
    "        \n",
    "    def solve(self):\n",
    "        self.counter = 0\n",
    "        assignment = {}\n",
    "        #visited_assignments = set()\n",
    "        \n",
    "        return self.solve_recur(assignment, copy.deepcopy(self.csp.domains))\n",
    "        \n",
    "    def solve_recur(self, assignment, domains):\n",
    "#         self.counter += 1\n",
    "        if self.csp.is_complete(assignment):\n",
    "            return assignment\n",
    "        self.AC3(domains)\n",
    "#         print(\"\\nDomains: \", domains)\n",
    "#         print(\"Assignment: \", len(assignment))\n",
    "        key = self.select_unassigned_variable(assignment, domains)\n",
    "        domain = self.order_domain_values(key, domains)\n",
    "#         print(f\"Variable to assign: {key} which has domain: {domain}\")\n",
    "        for val in domain:\n",
    "#             print(f\"Variable to assign: {key}, value to assign: {val}\")\n",
    "            if val:\n",
    "                \"\"\"avoids errors when there would not be values in the domain\"\"\"\n",
    "                assignment[key] = val\n",
    "#                 print(\"new assignment: \", len(assignment))\n",
    "\n",
    "                self.counter += 1\n",
    "                if self.csp.is_consistent(assignment):\n",
    "#                     print(\"new assignment is consistent\")\n",
    "                    new_domains = copy.deepcopy(domains)\n",
    "                    new_domains[key] = {val}\n",
    "                    self.forward_check(assignment, key, val, new_domains)\n",
    "#                     print(\"Domains after forward check: \", new_domains)\n",
    "                    new_assignment = self.solve_recur(assignment, new_domains)\n",
    "\n",
    "                    if new_assignment:\n",
    "                        return new_assignment\n",
    "            \n",
    "                    if assignment:\n",
    "                        assignment.pop(key, None)\n",
    "#             print(f\"\\t{val} was not a right value for {key}\")\n",
    "            \n",
    "        return None"
   ]
  },
  {
   "cell_type": "markdown",
   "metadata": {},
   "source": [
    "Let's test it on both considered problem. If everything went all right, both cells should terminate within few seconds at most, and you should see that the number of considered assignments is very small."
   ]
  },
  {
   "cell_type": "code",
   "execution_count": 56,
   "metadata": {},
   "outputs": [
    {
     "name": "stdout",
     "output_type": "stream",
     "text": [
      "CPU times: user 721 µs, sys: 11 µs, total: 732 µs\n",
      "Wall time: 750 µs\n",
      "Assignment {'SA': 'R', 'NT': 'G', 'Q': 'B', 'NSW': 'G', 'WA': 'B', 'V': 'B', 'T': 'R'}\n",
      "Is consistent? True\n",
      "Is complete? True\n",
      "# considered assignments 7\n"
     ]
    }
   ],
   "source": [
    "solver = RecursiveBacktrackingWithAC3(australia)\n",
    "%time assignment = solver.solve()\n",
    "print(\"Assignment\", assignment)\n",
    "print(\"Is consistent?\", australia.is_consistent(assignment))\n",
    "print(\"Is complete?\", australia.is_complete(assignment))\n",
    "print(\"# considered assignments\", solver.counter)"
   ]
  },
  {
   "cell_type": "code",
   "execution_count": 57,
   "metadata": {},
   "outputs": [
    {
     "name": "stdout",
     "output_type": "stream",
     "text": [
      "CPU times: user 3.82 s, sys: 3.33 ms, total: 3.83 s\n",
      "Wall time: 3.83 s\n",
      "Assignment \n",
      "812753649\n",
      "943682175\n",
      "675491283\n",
      "154237896\n",
      "369845721\n",
      "287169534\n",
      "521974368\n",
      "438526917\n",
      "796318452\n",
      "\n",
      "Is consistent? True\n",
      "Is complete? True\n",
      "# considered assignments 651\n"
     ]
    }
   ],
   "source": [
    "solver = RecursiveBacktrackingWithAC3(sudoku)\n",
    "%time assignment = solver.solve()\n",
    "print(\"Assignment\", assignment_to_string(assignment))\n",
    "print(\"Is consistent?\", sudoku.is_consistent(assignment))\n",
    "print(\"Is complete?\", sudoku.is_complete(assignment))\n",
    "print(\"# considered assignments\", solver.counter)"
   ]
  },
  {
   "cell_type": "markdown",
   "metadata": {},
   "source": [
    "------------\n",
    "The pictures are from \"Artificial Intelligence: A Modern Approach\" 3rd ed."
   ]
  }
 ],
 "metadata": {
  "kernelspec": {
   "display_name": "Python 3 (ipykernel)",
   "language": "python",
   "name": "python3"
  },
  "language_info": {
   "codemirror_mode": {
    "name": "ipython",
    "version": 3
   },
   "file_extension": ".py",
   "mimetype": "text/x-python",
   "name": "python",
   "nbconvert_exporter": "python",
   "pygments_lexer": "ipython3",
   "version": "3.10.8"
  }
 },
 "nbformat": 4,
 "nbformat_minor": 4
}

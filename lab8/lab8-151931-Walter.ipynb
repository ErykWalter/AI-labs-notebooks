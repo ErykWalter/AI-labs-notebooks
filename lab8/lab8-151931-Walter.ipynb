{
 "cells": [
  {
   "cell_type": "markdown",
   "metadata": {},
   "source": [
    "# Introduction to PyTorch"
   ]
  },
  {
   "cell_type": "markdown",
   "metadata": {},
   "source": [
    "In this assignment, we will use PyTorch, one of the most popular deep learning libraries out there. Similarly to programming languages, deep learning libraries can be very different in terms of syntax, yet they all revolve around the same concepts, so once you master one, learning another is much less challenging. We also use `seaborn` to plot charts and `scikit-learn` to download datasets. The three cells below should install, respectively:\n",
    "1. PyTorch: `torch` and `torchvision`, version at least `1.13` (2022/23 remark: version 1.13 is the most recent stable version and we use one freshly added feature)\n",
    "2. Seaborn\n",
    "3. `scikit-learn` version at least `0.23`."
   ]
  },
  {
   "cell_type": "code",
   "execution_count": 1,
   "metadata": {},
   "outputs": [
    {
     "name": "stdout",
     "output_type": "stream",
     "text": [
      "Defaulting to user installation because normal site-packages is not writeable\n",
      "\u001b[31mERROR: Invalid requirement: 'cudatoolkit=10.0'\n",
      "Hint: = is not a valid operator. Did you mean == ?\u001b[0m\u001b[31m\n",
      "\u001b[0m"
     ]
    }
   ],
   "source": [
    "!pip install 'torch>=1.13' torchvision cudatoolkit=10.0 --extra-index-url https://download.pytorch.org/whl/cpu"
   ]
  },
  {
   "cell_type": "code",
   "execution_count": 2,
   "metadata": {},
   "outputs": [
    {
     "name": "stdout",
     "output_type": "stream",
     "text": [
      "Defaulting to user installation because normal site-packages is not writeable\n",
      "Requirement already satisfied: seaborn in /home/eryczek/.local/lib/python3.10/site-packages (0.12.1)\n",
      "Requirement already satisfied: pandas>=0.25 in /home/eryczek/.local/lib/python3.10/site-packages (from seaborn) (1.4.4)\n",
      "Requirement already satisfied: numpy>=1.17 in /home/eryczek/.local/lib/python3.10/site-packages (from seaborn) (1.23.2)\n",
      "Requirement already satisfied: matplotlib!=3.6.1,>=3.1 in /home/eryczek/.local/lib/python3.10/site-packages (from seaborn) (3.5.3)\n",
      "Requirement already satisfied: python-dateutil>=2.7 in /home/eryczek/.local/lib/python3.10/site-packages (from matplotlib!=3.6.1,>=3.1->seaborn) (2.8.2)\n",
      "Requirement already satisfied: cycler>=0.10 in /home/eryczek/.local/lib/python3.10/site-packages (from matplotlib!=3.6.1,>=3.1->seaborn) (0.11.0)\n",
      "Requirement already satisfied: pyparsing>=2.2.1 in /usr/lib/python3.10/site-packages (from matplotlib!=3.6.1,>=3.1->seaborn) (3.0.9)\n",
      "Requirement already satisfied: pillow>=6.2.0 in /usr/lib/python3.10/site-packages (from matplotlib!=3.6.1,>=3.1->seaborn) (9.3.0)\n",
      "Requirement already satisfied: fonttools>=4.22.0 in /home/eryczek/.local/lib/python3.10/site-packages (from matplotlib!=3.6.1,>=3.1->seaborn) (4.37.1)\n",
      "Requirement already satisfied: packaging>=20.0 in /usr/lib/python3.10/site-packages (from matplotlib!=3.6.1,>=3.1->seaborn) (21.3)\n",
      "Requirement already satisfied: kiwisolver>=1.0.1 in /home/eryczek/.local/lib/python3.10/site-packages (from matplotlib!=3.6.1,>=3.1->seaborn) (1.4.4)\n",
      "Requirement already satisfied: pytz>=2020.1 in /home/eryczek/.local/lib/python3.10/site-packages (from pandas>=0.25->seaborn) (2022.2.1)\n",
      "Requirement already satisfied: six>=1.5 in /usr/lib/python3.10/site-packages (from python-dateutil>=2.7->matplotlib!=3.6.1,>=3.1->seaborn) (1.16.0)\n"
     ]
    }
   ],
   "source": [
    "!pip install seaborn"
   ]
  },
  {
   "cell_type": "code",
   "execution_count": 3,
   "metadata": {},
   "outputs": [
    {
     "name": "stdout",
     "output_type": "stream",
     "text": [
      "Defaulting to user installation because normal site-packages is not writeable\n",
      "Requirement already satisfied: scikit-learn>=0.23.0 in /home/eryczek/.local/lib/python3.10/site-packages (1.1.3)\n",
      "Requirement already satisfied: threadpoolctl>=2.0.0 in /home/eryczek/.local/lib/python3.10/site-packages (from scikit-learn>=0.23.0) (3.1.0)\n",
      "Requirement already satisfied: joblib>=1.0.0 in /home/eryczek/.local/lib/python3.10/site-packages (from scikit-learn>=0.23.0) (1.2.0)\n",
      "Requirement already satisfied: numpy>=1.17.3 in /home/eryczek/.local/lib/python3.10/site-packages (from scikit-learn>=0.23.0) (1.23.2)\n",
      "Requirement already satisfied: scipy>=1.3.2 in /home/eryczek/.local/lib/python3.10/site-packages (from scikit-learn>=0.23.0) (1.9.1)\n"
     ]
    }
   ],
   "source": [
    "!pip install 'scikit-learn>=0.23.0'"
   ]
  },
  {
   "cell_type": "markdown",
   "metadata": {},
   "source": [
    "# Linear regression"
   ]
  },
  {
   "cell_type": "markdown",
   "metadata": {},
   "source": [
    "## Data preparation\n",
    "\n",
    "For this task we'll consider the problem of predicting houses prices in California. We begin by loading the dataset using `fetch_california_housing`. The returned object contains a few fields:\n",
    "\n",
    "* `data` - the matrix of features\n",
    "* `feature_names` - names of the features\n",
    "* `target` - the values to predict"
   ]
  },
  {
   "cell_type": "code",
   "execution_count": 4,
   "metadata": {},
   "outputs": [],
   "source": [
    "from sklearn.datasets import fetch_california_housing\n",
    "dataset = fetch_california_housing()"
   ]
  },
  {
   "cell_type": "markdown",
   "metadata": {},
   "source": [
    "Let's see its description:"
   ]
  },
  {
   "cell_type": "code",
   "execution_count": 5,
   "metadata": {},
   "outputs": [
    {
     "name": "stdout",
     "output_type": "stream",
     "text": [
      ".. _california_housing_dataset:\n",
      "\n",
      "California Housing dataset\n",
      "--------------------------\n",
      "\n",
      "**Data Set Characteristics:**\n",
      "\n",
      "    :Number of Instances: 20640\n",
      "\n",
      "    :Number of Attributes: 8 numeric, predictive attributes and the target\n",
      "\n",
      "    :Attribute Information:\n",
      "        - MedInc        median income in block group\n",
      "        - HouseAge      median house age in block group\n",
      "        - AveRooms      average number of rooms per household\n",
      "        - AveBedrms     average number of bedrooms per household\n",
      "        - Population    block group population\n",
      "        - AveOccup      average number of household members\n",
      "        - Latitude      block group latitude\n",
      "        - Longitude     block group longitude\n",
      "\n",
      "    :Missing Attribute Values: None\n",
      "\n",
      "This dataset was obtained from the StatLib repository.\n",
      "https://www.dcc.fc.up.pt/~ltorgo/Regression/cal_housing.html\n",
      "\n",
      "The target variable is the median house value for California districts,\n",
      "expressed in hundreds of thousands of dollars ($100,000).\n",
      "\n",
      "This dataset was derived from the 1990 U.S. census, using one row per census\n",
      "block group. A block group is the smallest geographical unit for which the U.S.\n",
      "Census Bureau publishes sample data (a block group typically has a population\n",
      "of 600 to 3,000 people).\n",
      "\n",
      "An household is a group of people residing within a home. Since the average\n",
      "number of rooms and bedrooms in this dataset are provided per household, these\n",
      "columns may take surpinsingly large values for block groups with few households\n",
      "and many empty houses, such as vacation resorts.\n",
      "\n",
      "It can be downloaded/loaded using the\n",
      ":func:`sklearn.datasets.fetch_california_housing` function.\n",
      "\n",
      ".. topic:: References\n",
      "\n",
      "    - Pace, R. Kelley and Ronald Barry, Sparse Spatial Autoregressions,\n",
      "      Statistics and Probability Letters, 33 (1997) 291-297\n",
      "\n"
     ]
    }
   ],
   "source": [
    "print(dataset.DESCR)"
   ]
  },
  {
   "cell_type": "markdown",
   "metadata": {},
   "source": [
    "Now we convert the data to `torch.Tensor`, a PyTorch-specific representation of a tensor (a tensor is a generalization of a matrix to more than 2 dimensions). The `dtype` parameter forces conversion to floating-point numbers. The output of the cell is the size of the matrices. The output of the cell are the shapes of both tensors - `X` is 20640 rows by 8 columns and `y` is a vector of 20640 values"
   ]
  },
  {
   "cell_type": "code",
   "execution_count": 6,
   "metadata": {},
   "outputs": [
    {
     "data": {
      "text/plain": [
       "(torch.Size([20640, 8]), torch.Size([20640]))"
      ]
     },
     "execution_count": 6,
     "metadata": {},
     "output_type": "execute_result"
    }
   ],
   "source": [
    "import torch\n",
    "\n",
    "X = torch.tensor(dataset['data'], dtype=torch.float)\n",
    "y = torch.tensor(dataset['target'], dtype=torch.float)\n",
    "\n",
    "X.shape, y.shape"
   ]
  },
  {
   "cell_type": "markdown",
   "metadata": {},
   "source": [
    "We then split the data randomly into three subsets: a training set consisting of 70\\% of the learning examples, a validation set consisting of 10\\% and a test set consisting of the remaining 20\\%."
   ]
  },
  {
   "cell_type": "code",
   "execution_count": 7,
   "metadata": {},
   "outputs": [
    {
     "name": "stdout",
     "output_type": "stream",
     "text": [
      "Training: 14448\n",
      "Validation: 2064\n",
      "Test: 4128\n"
     ]
    }
   ],
   "source": [
    "import torch.utils.data as data\n",
    "training, validation, test = data.random_split(data.TensorDataset(X, y), [0.7, 0.1, 0.2], generator=torch.Generator().manual_seed(42))\n",
    "\n",
    "print(\"Training:\", len(training))\n",
    "print(\"Validation:\", len(validation))\n",
    "print(\"Test:\", len(test))"
   ]
  },
  {
   "cell_type": "markdown",
   "metadata": {},
   "source": [
    "Let's inspect the first element of the training set - it is a pair of tensors, the first one consisting of 8 values (the features), whereas the second one is a tensor of a single value (the target)"
   ]
  },
  {
   "cell_type": "code",
   "execution_count": 8,
   "metadata": {},
   "outputs": [
    {
     "data": {
      "text/plain": [
       "(tensor([ 5.6063e+00,  1.6000e+01,  6.4174e+00,  9.6957e-01,  1.5250e+03,\n",
       "          3.3152e+00,  3.7450e+01, -1.2190e+02]),\n",
       " tensor(3.2050))"
      ]
     },
     "execution_count": 8,
     "metadata": {},
     "output_type": "execute_result"
    }
   ],
   "source": [
    "training[0]"
   ]
  },
  {
   "cell_type": "markdown",
   "metadata": {},
   "source": [
    "## Building a simple regressor\n",
    "\n",
    "PyTorch is based on modules (objects of the class `torch.nn.Module`), which are composed into a compution graph. Each module may use parameters (objects of the class `torch.nn.Parameter`), and for each such an object it is possible to automatically compute gradients and optimize them according to some cost function.\n",
    "\n",
    "We begin by constructing a single linear layer, that is, a layer implementing the operation $\\hat{y} = Xw + b$"
   ]
  },
  {
   "cell_type": "code",
   "execution_count": 9,
   "metadata": {},
   "outputs": [],
   "source": [
    "import torch.nn as nn\n",
    "\n",
    "regressor = nn.Linear(8, 1) # 8 input features, 1 output feature"
   ]
  },
  {
   "cell_type": "markdown",
   "metadata": {},
   "source": [
    "To evaluate the performance we use mean-squared error. While PyTorch offers a ready to use implementation as the class `torch.nn.MSELoss()`, this time we implement it manually as an example. The main point is to inherit from the class `torch.nn.Module` and then to override the method `forward`, which is responsible for performing computations in the forward direction of the computation graph. Computations in the backward direction (that is, gradient flow) are derrived automatically."
   ]
  },
  {
   "cell_type": "code",
   "execution_count": 10,
   "metadata": {},
   "outputs": [],
   "source": [
    "class MSE(nn.Module):\n",
    "    def __init__(self):\n",
    "        super(MSE, self).__init__()\n",
    "        \n",
    "    def forward(self, prediction, target):\n",
    "        return ((prediction-target)**2).mean()\n",
    "\n",
    "mse = MSE()"
   ]
  },
  {
   "cell_type": "markdown",
   "metadata": {},
   "source": [
    "We would like to optimize the vector `w` and `b` automatically during the learning. To this end, we use the class `torch.optim.Adam`, which implements some extensions of the graident descent algorithm. We construct the object `opt`, which is responsible for optimizing the regressor's parameters, obtained by calling `regressor.parameters()`."
   ]
  },
  {
   "cell_type": "code",
   "execution_count": 11,
   "metadata": {},
   "outputs": [],
   "source": [
    "import torch.optim as optim\n",
    "\n",
    "opt = optim.Adam(regressor.parameters())"
   ]
  },
  {
   "cell_type": "markdown",
   "metadata": {},
   "source": [
    "## Starting computations\n",
    "\n",
    "We implement mini-batch learning over `n_epoch` epochs. Within each epoch:\n",
    "1. We shuffle the training set and iterate over it in the batches of `batch_size` examples\n",
    "3. We zero the gradients stored by the optimizer (`opt.zero_grad()`)\n",
    "4. We execute the regressor and compute the mean-squared error (MSE).\n",
    "5. We compute the gradients (`mse_value.backward()`) and apply them (`opt.step()`) to update the parameters of the regressor\n",
    "6. We store the value of MSE. We call the `detach()` method to detach the MSE from its gradients. This enables passing the values to other libraries like `seaborn`.\n",
    "\n",
    "After an epoch is completed, we average the collected MSEs and store the value."
   ]
  },
  {
   "cell_type": "code",
   "execution_count": 12,
   "metadata": {},
   "outputs": [],
   "source": [
    "import numpy as np\n",
    "\n",
    "mse_values = []\n",
    "batch_size = 100\n",
    "n_epoch = 10\n",
    "for epoch in range(n_epoch):    \n",
    "    mse_epoch = []\n",
    "    for X_batch, y_batch in data.DataLoader(training, batch_size=batch_size, shuffle=True):        \n",
    "        opt.zero_grad()\n",
    "        y_pred = regressor(X_batch).reshape((-1,))\n",
    "        mse_value = mse(y_pred, y_batch)\n",
    "        mse_value.backward()\n",
    "        opt.step()\n",
    "        mse_epoch.append(mse_value.item())\n",
    "    mse_values.append(np.mean(mse_epoch))    "
   ]
  },
  {
   "cell_type": "code",
   "execution_count": 13,
   "metadata": {},
   "outputs": [
    {
     "data": {
      "image/png": "[encoded data removed]",
      "text/plain": [
       "<Figure size 500x500 with 1 Axes>"
      ]
     },
     "metadata": {},
     "output_type": "display_data"
    }
   ],
   "source": [
    "import seaborn as sns\n",
    "\n",
    "_ = sns.relplot(x=range(len(mse_values)), y=mse_values, kind=\"line\")"
   ]
  },
  {
   "cell_type": "markdown",
   "metadata": {},
   "source": [
    "Execute the two preceeding cells of the code again. Because the regressor and the optimizer were not created anew, so the parameters are already optimized and the obtained charts are vastly different. In order to return to the initial state it is necessary to create new obiect `regressor` and `opt`."
   ]
  },
  {
   "cell_type": "markdown",
   "metadata": {},
   "source": [
    "## Task 1: Early stopping"
   ]
  },
  {
   "cell_type": "markdown",
   "metadata": {},
   "source": [
    "Complete the function `train_linear_regression` implementing the early stopping: after each epoch of learning compute the value of MSE using the sets `X_validation` and `y_validation`. Keep track of the epoch number you got the best value of the MSE on the validation set so far. Stop the learning process if that epoch is at least `no_improvment` epochs in the past. Store MSE for validation in the `validation_mses` list and return it along with the trained regressor.\n",
    "\n",
    "Hints and remarks:\n",
    "* Observe that we must call the methods `regressor.train()` and `regressor.eval()` to switch the module between the training mode and the evaluation mode. \n",
    "* Remeber not to call `opt.step()` after performing the computation on the validation set, to not update the weights of the model. Similarly, you don't need to compute gradients during this step.\n",
    "* You don't need to shuffle the validation set, nor go over it using batches. Instead, you can access the underlying tensors: `validation[:][0]` gets you the X matrix, whereas `validation[:][1]` returns the y vector.\n",
    "* You may want to print out the epoch number and the value of the MSE on the validation set every time you find a better value. In the beginning you should expect a better value more or less every epoch and the decrease in MSE will be step, with time the decreases will diminishi and you'll hit a better value only every few epochs"
   ]
  },
  {
   "cell_type": "code",
   "execution_count": 14,
   "metadata": {},
   "outputs": [],
   "source": [
    "def train_linear_regression(training: data.Dataset, \n",
    "                      validation: data.Dataset, \n",
    "                      n_features: int = 8, \n",
    "                      no_improvement: int = 10,\n",
    "                      batch_size: int = 128,\n",
    "                      max_epochs: int = 100_000):\n",
    "    n_features = training[0][0].shape[0]\n",
    "    regressor = nn.Linear(n_features, 1) # n_features input features, 1 output feature\n",
    "    opt = optim.Adam(regressor.parameters())\n",
    "\n",
    "    training_mses = []\n",
    "    validation_mses = []\n",
    "    cur_no_improvement = 0\n",
    "    lowest_mse = float('inf')\n",
    "    for epoch in range(max_epochs):\n",
    "        regressor.train()\n",
    "        for X_batch, y_batch in data.DataLoader(training, batch_size=batch_size, shuffle=True):\n",
    "            opt.zero_grad()\n",
    "            y_pred = regressor(X_batch).reshape((-1,))\n",
    "            mse_value = mse(y_pred, y_batch)\n",
    "            mse_value.backward()\n",
    "            opt.step()\n",
    "            training_mses.append(mse_value.item())\n",
    "        regressor.eval()\n",
    "        X_val = validation[:][0]\n",
    "        y_val = validation[:][1]\n",
    "        val_pred = regressor(X_val).reshape((-1,))\n",
    "        val_mse = mse(val_pred, y_val).item()\n",
    "        validation_mses.append(val_mse)\n",
    "        if val_mse >= lowest_mse:\n",
    "            cur_no_improvement += 1\n",
    "        if val_mse < lowest_mse:\n",
    "            lowest_mse = val_mse\n",
    "            cur_no_improvement = 0\n",
    "            print(f\"Epoch: {epoch}; value of mse on validation set: {validation_mses[-1]}\")\n",
    "        if cur_no_improvement >= no_improvement:\n",
    "            break\n",
    "    return regressor, validation_mses"
   ]
  },
  {
   "cell_type": "markdown",
   "metadata": {},
   "source": [
    "Let's test your solution. First, we train the regressor."
   ]
  },
  {
   "cell_type": "code",
   "execution_count": 15,
   "metadata": {
    "scrolled": true,
    "tags": []
   },
   "outputs": [
    {
     "name": "stdout",
     "output_type": "stream",
     "text": [
      "Epoch: 0; value of mse on validation set: 217206.796875\n",
      "Epoch: 1; value of mse on validation set: 94583.046875\n",
      "Epoch: 2; value of mse on validation set: 34392.40625\n",
      "Epoch: 3; value of mse on validation set: 11142.24609375\n",
      "Epoch: 4; value of mse on validation set: 3526.9111328125\n",
      "Epoch: 5; value of mse on validation set: 1334.5302734375\n",
      "Epoch: 6; value of mse on validation set: 821.4889526367188\n",
      "Epoch: 7; value of mse on validation set: 672.3389892578125\n",
      "Epoch: 8; value of mse on validation set: 592.23828125\n",
      "Epoch: 9; value of mse on validation set: 526.5598754882812\n",
      "Epoch: 10; value of mse on validation set: 465.0263366699219\n",
      "Epoch: 11; value of mse on validation set: 405.9297790527344\n",
      "Epoch: 12; value of mse on validation set: 351.3498229980469\n",
      "Epoch: 13; value of mse on validation set: 301.2932434082031\n",
      "Epoch: 14; value of mse on validation set: 255.4344482421875\n",
      "Epoch: 15; value of mse on validation set: 215.4513702392578\n",
      "Epoch: 16; value of mse on validation set: 178.82675170898438\n",
      "Epoch: 17; value of mse on validation set: 147.69993591308594\n",
      "Epoch: 18; value of mse on validation set: 120.7630844116211\n",
      "Epoch: 19; value of mse on validation set: 97.98314666748047\n",
      "Epoch: 20; value of mse on validation set: 79.18916320800781\n",
      "Epoch: 21; value of mse on validation set: 64.01654052734375\n",
      "Epoch: 22; value of mse on validation set: 51.53908920288086\n",
      "Epoch: 23; value of mse on validation set: 41.58885955810547\n",
      "Epoch: 24; value of mse on validation set: 34.010009765625\n",
      "Epoch: 25; value of mse on validation set: 28.162397384643555\n",
      "Epoch: 26; value of mse on validation set: 23.713659286499023\n",
      "Epoch: 27; value of mse on validation set: 20.395883560180664\n",
      "Epoch: 28; value of mse on validation set: 17.9761962890625\n",
      "Epoch: 29; value of mse on validation set: 16.23959732055664\n",
      "Epoch: 30; value of mse on validation set: 14.963794708251953\n",
      "Epoch: 31; value of mse on validation set: 13.93233585357666\n",
      "Epoch: 32; value of mse on validation set: 13.203612327575684\n",
      "Epoch: 33; value of mse on validation set: 12.587798118591309\n",
      "Epoch: 34; value of mse on validation set: 12.080357551574707\n",
      "Epoch: 35; value of mse on validation set: 11.673195838928223\n",
      "Epoch: 36; value of mse on validation set: 11.294134140014648\n",
      "Epoch: 37; value of mse on validation set: 10.860869407653809\n",
      "Epoch: 38; value of mse on validation set: 10.585362434387207\n",
      "Epoch: 39; value of mse on validation set: 10.120762825012207\n",
      "Epoch: 40; value of mse on validation set: 9.766925811767578\n",
      "Epoch: 41; value of mse on validation set: 9.383321762084961\n",
      "Epoch: 42; value of mse on validation set: 9.055451393127441\n",
      "Epoch: 43; value of mse on validation set: 8.689557075500488\n",
      "Epoch: 44; value of mse on validation set: 8.351821899414062\n",
      "Epoch: 45; value of mse on validation set: 7.929464340209961\n",
      "Epoch: 46; value of mse on validation set: 7.5846638679504395\n",
      "Epoch: 47; value of mse on validation set: 7.254195690155029\n",
      "Epoch: 48; value of mse on validation set: 6.880894184112549\n",
      "Epoch: 49; value of mse on validation set: 6.591101169586182\n",
      "Epoch: 50; value of mse on validation set: 6.258323669433594\n",
      "Epoch: 51; value of mse on validation set: 5.899755477905273\n",
      "Epoch: 52; value of mse on validation set: 5.57054328918457\n",
      "Epoch: 53; value of mse on validation set: 5.267824172973633\n",
      "Epoch: 54; value of mse on validation set: 4.956997394561768\n",
      "Epoch: 55; value of mse on validation set: 4.677462100982666\n",
      "Epoch: 56; value of mse on validation set: 4.42619514465332\n",
      "Epoch: 57; value of mse on validation set: 4.133558750152588\n",
      "Epoch: 58; value of mse on validation set: 3.8919098377227783\n",
      "Epoch: 59; value of mse on validation set: 3.6767711639404297\n",
      "Epoch: 60; value of mse on validation set: 3.4377293586730957\n",
      "Epoch: 61; value of mse on validation set: 3.3593883514404297\n",
      "Epoch: 62; value of mse on validation set: 3.0059332847595215\n",
      "Epoch: 63; value of mse on validation set: 2.8136279582977295\n",
      "Epoch: 64; value of mse on validation set: 2.6385867595672607\n",
      "Epoch: 65; value of mse on validation set: 2.4831771850585938\n",
      "Epoch: 66; value of mse on validation set: 2.3889594078063965\n",
      "Epoch: 67; value of mse on validation set: 2.2056922912597656\n",
      "Epoch: 68; value of mse on validation set: 2.0761263370513916\n",
      "Epoch: 69; value of mse on validation set: 1.9406298398971558\n",
      "Epoch: 70; value of mse on validation set: 1.8271089792251587\n",
      "Epoch: 71; value of mse on validation set: 1.7228976488113403\n",
      "Epoch: 72; value of mse on validation set: 1.6281558275222778\n",
      "Epoch: 73; value of mse on validation set: 1.6049342155456543\n",
      "Epoch: 74; value of mse on validation set: 1.452781081199646\n",
      "Epoch: 75; value of mse on validation set: 1.3726152181625366\n",
      "Epoch: 76; value of mse on validation set: 1.2986727952957153\n",
      "Epoch: 77; value of mse on validation set: 1.2311755418777466\n",
      "Epoch: 78; value of mse on validation set: 1.1668469905853271\n",
      "Epoch: 79; value of mse on validation set: 1.1126099824905396\n",
      "Epoch: 80; value of mse on validation set: 1.0533009767532349\n",
      "Epoch: 81; value of mse on validation set: 0.9953293800354004\n",
      "Epoch: 82; value of mse on validation set: 0.9505866169929504\n",
      "Epoch: 83; value of mse on validation set: 0.9033481478691101\n",
      "Epoch: 84; value of mse on validation set: 0.8732247948646545\n",
      "Epoch: 85; value of mse on validation set: 0.8259316086769104\n",
      "Epoch: 86; value of mse on validation set: 0.7922759652137756\n",
      "Epoch: 87; value of mse on validation set: 0.7641530632972717\n",
      "Epoch: 88; value of mse on validation set: 0.7391039133071899\n",
      "Epoch: 89; value of mse on validation set: 0.7142139673233032\n",
      "Epoch: 90; value of mse on validation set: 0.6920226216316223\n",
      "Epoch: 91; value of mse on validation set: 0.6803956031799316\n",
      "Epoch: 92; value of mse on validation set: 0.666322648525238\n",
      "Epoch: 93; value of mse on validation set: 0.6508110761642456\n",
      "Epoch: 94; value of mse on validation set: 0.6493539214134216\n",
      "Epoch: 95; value of mse on validation set: 0.631732702255249\n",
      "Epoch: 96; value of mse on validation set: 0.6278577446937561\n",
      "Epoch: 97; value of mse on validation set: 0.6193471550941467\n",
      "Epoch: 98; value of mse on validation set: 0.6140103936195374\n",
      "Epoch: 99; value of mse on validation set: 0.6118720769882202\n",
      "Epoch: 102; value of mse on validation set: 0.6028387546539307\n",
      "Epoch: 104; value of mse on validation set: 0.6009801626205444\n"
     ]
    }
   ],
   "source": [
    "regressor, validation_mses = train_linear_regression(training, validation)"
   ]
  },
  {
   "cell_type": "markdown",
   "metadata": {},
   "source": [
    "We plot the last 40 values of MSE on the validation set. If you implemented the early stopping correctly, the lowest value should be exactly at 30 (`=40-no_imporvement`)"
   ]
  },
  {
   "cell_type": "code",
   "execution_count": 16,
   "metadata": {},
   "outputs": [
    {
     "data": {
      "image/png": "[encoded data removed]",
      "text/plain": [
       "<Figure size 500x500 with 1 Axes>"
      ]
     },
     "metadata": {},
     "output_type": "display_data"
    }
   ],
   "source": [
    "_ = sns.relplot(x=range(1, 41), y=validation_mses[-40:], kind=\"line\")"
   ]
  },
  {
   "cell_type": "markdown",
   "metadata": {},
   "source": [
    "Finally, let's compute the mse on the test set. It should be similar to those we got on the validation set."
   ]
  },
  {
   "cell_type": "code",
   "execution_count": 17,
   "metadata": {
    "scrolled": true,
    "tags": []
   },
   "outputs": [
    {
     "name": "stdout",
     "output_type": "stream",
     "text": [
      "MSE on the test set: 0.6399297118186951\n"
     ]
    }
   ],
   "source": [
    "regressor.eval()\n",
    "y_pred = regressor(test[:][0]).reshape((-1,))\n",
    "print(\"MSE on the test set:\", mse(y_pred, test[:][1]).item())"
   ]
  },
  {
   "cell_type": "markdown",
   "metadata": {},
   "source": [
    "# Classification"
   ]
  },
  {
   "cell_type": "markdown",
   "metadata": {},
   "source": [
    "The second part is concerned with the classification task. We begin by downloading the MNIST dataset, consisting of 70.000 examples of handwritten digits (0-9), represented as grayscale images of 28x28 pixels. We use the function `fetch_openml` that downloads the data from [https://www.openml.org/](https://www.openml.org)."
   ]
  },
  {
   "cell_type": "code",
   "execution_count": 18,
   "metadata": {},
   "outputs": [],
   "source": [
    "from sklearn.datasets import fetch_openml\n",
    "mnist_sklearn = fetch_openml('mnist_784', version=1, as_frame=False)"
   ]
  },
  {
   "cell_type": "markdown",
   "metadata": {},
   "source": [
    "Let's learn something about the dataset"
   ]
  },
  {
   "cell_type": "code",
   "execution_count": 19,
   "metadata": {},
   "outputs": [
    {
     "name": "stdout",
     "output_type": "stream",
     "text": [
      "**Author**: Yann LeCun, Corinna Cortes, Christopher J.C. Burges  \n",
      "**Source**: [MNIST Website](http://yann.lecun.com/exdb/mnist/) - Date unknown  \n",
      "**Please cite**:  \n",
      "\n",
      "The MNIST database of handwritten digits with 784 features, raw data available at: http://yann.lecun.com/exdb/mnist/. It can be split in a training set of the first 60,000 examples, and a test set of 10,000 examples  \n",
      "\n",
      "It is a subset of a larger set available from NIST. The digits have been size-normalized and centered in a fixed-size image. It is a good database for people who want to try learning techniques and pattern recognition methods on real-world data while spending minimal efforts on preprocessing and formatting. The original black and white (bilevel) images from NIST were size normalized to fit in a 20x20 pixel box while preserving their aspect ratio. The resulting images contain grey levels as a result of the anti-aliasing technique used by the normalization algorithm. the images were centered in a 28x28 image by computing the center of mass of the pixels, and translating the image so as to position this point at the center of the 28x28 field.  \n",
      "\n",
      "With some classification methods (particularly template-based methods, such as SVM and K-nearest neighbors), the error rate improves when the digits are centered by bounding box rather than center of mass. If you do this kind of pre-processing, you should report it in your publications. The MNIST database was constructed from NIST's NIST originally designated SD-3 as their training set and SD-1 as their test set. However, SD-3 is much cleaner and easier to recognize than SD-1. The reason for this can be found on the fact that SD-3 was collected among Census Bureau employees, while SD-1 was collected among high-school students. Drawing sensible conclusions from learning experiments requires that the result be independent of the choice of training set and test among the complete set of samples. Therefore it was necessary to build a new database by mixing NIST's datasets.  \n",
      "\n",
      "The MNIST training set is composed of 30,000 patterns from SD-3 and 30,000 patterns from SD-1. Our test set was composed of 5,000 patterns from SD-3 and 5,000 patterns from SD-1. The 60,000 pattern training set contained examples from approximately 250 writers. We made sure that the sets of writers of the training set and test set were disjoint. SD-1 contains 58,527 digit images written by 500 different writers. In contrast to SD-3, where blocks of data from each writer appeared in sequence, the data in SD-1 is scrambled. Writer identities for SD-1 is available and we used this information to unscramble the writers. We then split SD-1 in two: characters written by the first 250 writers went into our new training set. The remaining 250 writers were placed in our test set. Thus we had two sets with nearly 30,000 examples each. The new training set was completed with enough examples from SD-3, starting at pattern # 0, to make a full set of 60,000 training patterns. Similarly, the new test set was completed with SD-3 examples starting at pattern # 35,000 to make a full set with 60,000 test patterns. Only a subset of 10,000 test images (5,000 from SD-1 and 5,000 from SD-3) is available on this site. The full 60,000 sample training set is available.\n",
      "\n",
      "Downloaded from openml.org.\n"
     ]
    }
   ],
   "source": [
    "print(mnist_sklearn.DESCR)"
   ]
  },
  {
   "cell_type": "code",
   "execution_count": 20,
   "metadata": {},
   "outputs": [],
   "source": [
    "X = torch.tensor(mnist_sklearn.data, dtype=torch.float)\n",
    "y = torch.tensor([int(v) for v in mnist_sklearn.target])\n",
    "mnist = data.TensorDataset(X, y)\n",
    "conv_mnist = data.TensorDataset(X.reshape(-1, 1, 28, 28), y)"
   ]
  },
  {
   "cell_type": "markdown",
   "metadata": {},
   "source": [
    "Lets inspect some examples. The digit in the top-right corner of each image is not a part of the image itself, but rather the label of the image, displayed using `ax.text` in the code below. For the visualisation we use `matplotlib`, a library underlying the `seaborn` library."
   ]
  },
  {
   "cell_type": "code",
   "execution_count": 21,
   "metadata": {},
   "outputs": [
    {
     "data": {
      "image/png": "[encoded data removed]",
      "text/plain": [
       "<Figure size 400x400 with 16 Axes>"
      ]
     },
     "metadata": {},
     "output_type": "display_data"
    }
   ],
   "source": [
    "import matplotlib.pyplot as plt\n",
    "\n",
    "fig = plt.figure(figsize = (4,4))\n",
    "fig.subplots_adjust(left=0, right=1, bottom=0, top=1, hspace=0.05, wspace=0.05)\n",
    "for i in range(16):\n",
    "    ax = fig.add_subplot(4, 4, i+1, xticks=[], yticks=[])\n",
    "    ax.imshow(mnist[i][0].reshape(28, 28),cmap=plt.cm.binary,interpolation='nearest')\n",
    "    ax.text(0, 7, str(mnist[i][1].item()))"
   ]
  },
  {
   "cell_type": "markdown",
   "metadata": {},
   "source": [
    "We again split the dataset into three subsets."
   ]
  },
  {
   "cell_type": "code",
   "execution_count": 22,
   "metadata": {},
   "outputs": [
    {
     "name": "stdout",
     "output_type": "stream",
     "text": [
      "Training: 49000\n",
      "Validation: 7000\n",
      "Test: 14000\n"
     ]
    }
   ],
   "source": [
    "training, validation, test = data.random_split(mnist, [0.7, 0.1, 0.2], generator=torch.Generator().manual_seed(42))\n",
    "conv_training, conv_validation, conv_test = data.random_split(conv_mnist, [0.7, 0.1, 0.2], generator=torch.Generator().manual_seed(42))\n",
    "\n",
    "print(\"Training:\", len(training))\n",
    "print(\"Validation:\", len(validation))\n",
    "print(\"Test:\", len(test))"
   ]
  },
  {
   "cell_type": "markdown",
   "metadata": {},
   "source": [
    "## Logistic regression"
   ]
  },
  {
   "cell_type": "markdown",
   "metadata": {},
   "source": [
    "We create a simple logisitc regression model, learning on the raw pixels of the images. The matrix of the feature weights (here: pixels) is of the size $p \\times k$, i.e., $p$ weights for each of the $k$ classes. The model computes logits, i.e., the output of the logistic  regression **before** applying the softmax function. In the output, each row corresponds to a single example and each column to a single class. Should each row be normalized using the softmax function, each row would be a probability distribution."
   ]
  },
  {
   "cell_type": "code",
   "execution_count": 23,
   "metadata": {},
   "outputs": [],
   "source": [
    "p = 28*28\n",
    "k = 10\n",
    "model = nn.Linear(p, k)"
   ]
  },
  {
   "cell_type": "markdown",
   "metadata": {},
   "source": [
    "As the loss function we will use *cross entropy* and perform the optimization using the Adam optimizer. Observe that the optimizer gets the set of parameters to optimize. If you create a new model, you could reuse the old `loss_function`, but the optimizer must be created anew."
   ]
  },
  {
   "cell_type": "code",
   "execution_count": 24,
   "metadata": {},
   "outputs": [],
   "source": [
    "loss_function = torch.nn.CrossEntropyLoss()\n",
    "opt = optim.Adam(model.parameters())"
   ]
  },
  {
   "cell_type": "markdown",
   "metadata": {},
   "source": [
    "We create an auxiliary function to compute the classification accuracy. For each row of the `logits` matrix we select the number of the column with the highest value and compare it with the expected (true) value. This way we obtain a vector of 0s and 1s, which are then averaged to compute the accuracy."
   ]
  },
  {
   "cell_type": "code",
   "execution_count": 25,
   "metadata": {},
   "outputs": [],
   "source": [
    "def compute_acc(logits, expected):\n",
    "    pred = logits.argmax(dim=1)\n",
    "    return (pred == expected).type(torch.float).mean()"
   ]
  },
  {
   "cell_type": "markdown",
   "metadata": {},
   "source": [
    "The remainder is very similar to the linear regression: we create a data loder (`torch.utils.data.DataLoader`)  to handle shuffling and creating batches for us, and then during each of the `n_epoch` epochs, we enable the training mode (`model.train()`), and then iterate over the loader, computing loss and gradients. Then we evaluate by computing the accuracy on the validation set."
   ]
  },
  {
   "cell_type": "code",
   "execution_count": 26,
   "metadata": {},
   "outputs": [],
   "source": [
    "loss_values = []\n",
    "acc_values = []\n",
    "batch_size = 512\n",
    "n_epoch = 10"
   ]
  },
  {
   "cell_type": "code",
   "execution_count": 27,
   "metadata": {},
   "outputs": [
    {
     "name": "stdout",
     "output_type": "stream",
     "text": [
      "Epoch: 0 accuracy: 0.8735714554786682\n",
      "Epoch: 1 accuracy: 0.8678571581840515\n",
      "Epoch: 2 accuracy: 0.8804285526275635\n",
      "Epoch: 3 accuracy: 0.8882856965065002\n",
      "Epoch: 4 accuracy: 0.8802857398986816\n",
      "Epoch: 5 accuracy: 0.8769999742507935\n",
      "Epoch: 6 accuracy: 0.8881428837776184\n",
      "Epoch: 7 accuracy: 0.8658571243286133\n",
      "Epoch: 8 accuracy: 0.8769999742507935\n",
      "Epoch: 9 accuracy: 0.8895714282989502\n"
     ]
    }
   ],
   "source": [
    "loader = data.DataLoader(training, batch_size=batch_size, shuffle=True)    \n",
    "\n",
    "for epoch in range(n_epoch):    \n",
    "    model.train()    \n",
    "    epoch_loss = []\n",
    "    for X_batch, y_batch in loader:\n",
    "        opt.zero_grad()\n",
    "        logits = model(X_batch)\n",
    "        loss = loss_function(logits, y_batch)\n",
    "        loss.backward()\n",
    "        opt.step()        \n",
    "        epoch_loss.append(loss.detach())\n",
    "    model.eval()\n",
    "    loss_values.append(torch.tensor(epoch_loss).mean())\n",
    "    logits = model(validation[:][0])\n",
    "    acc = compute_acc(logits, validation[:][1]).item()\n",
    "    print(\"Epoch:\", epoch, \"accuracy:\", acc)\n",
    "    acc_values.append(acc)"
   ]
  },
  {
   "cell_type": "code",
   "execution_count": 28,
   "metadata": {},
   "outputs": [
    {
     "data": {
      "image/png": "[encoded data removed]",
      "text/plain": [
       "<Figure size 640x480 with 1 Axes>"
      ]
     },
     "metadata": {},
     "output_type": "display_data"
    },
    {
     "data": {
      "image/png": "[encoded data removed]",
      "text/plain": [
       "<Figure size 640x480 with 1 Axes>"
      ]
     },
     "metadata": {},
     "output_type": "display_data"
    }
   ],
   "source": [
    "plt.title(\"Loss on the training set\")\n",
    "plt.plot(loss_values)\n",
    "plt.show()\n",
    "plt.title(\"Accuracy on the validation set\")\n",
    "plt.plot(acc_values)\n",
    "plt.show()"
   ]
  },
  {
   "cell_type": "markdown",
   "metadata": {},
   "source": [
    "Observe that the first epoch already gets us very high and then the improvements are very small."
   ]
  },
  {
   "cell_type": "markdown",
   "metadata": {},
   "source": [
    "## Task 2: Learning framework"
   ]
  },
  {
   "cell_type": "markdown",
   "metadata": {},
   "source": [
    "The function `train_classifier` below is supposed to be an integrated tool for fitting parameters of the given `model`. Complete the function below so that it:\n",
    "\n",
    "* Trains `model` using the training set (`training`) for at most `max_epochs` using the mini-batches of the `batch_size` size\n",
    "* Implements early stopping using the validation set (`validation`), stopping if there is no improvement on accuracy for `no_improvement` epochs\n",
    "* Returns a list such that i-th element of this list is the accuracy on the validation set after the i-th epoch of training\n",
    "* Use the cross-entropy loss and the Adam optimizer for training, but make sure you don't reuse the global objects `loss_function` and `opt`\n",
    "* Remember to switch between the training mode (`model.train()`) and the evaluation mode (`model.eval()`)"
   ]
  },
  {
   "cell_type": "code",
   "execution_count": 29,
   "metadata": {},
   "outputs": [],
   "source": [
    "def train_classifier(model: nn.Module,        \n",
    "              training: data.Dataset, \n",
    "              validation: data.Dataset,\n",
    "              no_improvement: int = 10,\n",
    "              batch_size: int = 128,\n",
    "              max_epochs: int = 100_000):\n",
    "    \n",
    "    opt = optim.Adam(model.parameters())\n",
    "    acc_values = []\n",
    "    best_acc = 0\n",
    "    cur_no_improvement = 0\n",
    "    loader = data.DataLoader(training, batch_size=batch_size, shuffle=True)\n",
    "    \n",
    "    for epoch in range(max_epochs):    \n",
    "        model.train()\n",
    "        for X_batch, y_batch in loader:\n",
    "            opt.zero_grad()\n",
    "            logits = model(X_batch)\n",
    "            loss = loss_function(logits, y_batch)\n",
    "            loss.backward()\n",
    "            opt.step()        \n",
    "        model.eval()\n",
    "        logits = model(validation[:][0])\n",
    "        acc = compute_acc(logits, validation[:][1]).item()\n",
    "        acc_values.append(acc)\n",
    "        \n",
    "        if best_acc >= acc:\n",
    "            cur_no_improvement += 1\n",
    "        if acc > best_acc:\n",
    "            best_acc = acc\n",
    "            cur_no_improvement = 0\n",
    "            print(f\"Epoch: {epoch}; accuarity on validation set: {acc}\")\n",
    "        if cur_no_improvement >= no_improvement:\n",
    "            break\n",
    "            \n",
    "    return acc_values"
   ]
  },
  {
   "cell_type": "markdown",
   "metadata": {},
   "source": [
    "Test it by training logistic regression on the MNIST dataset and then plotting the accuracies. The best accuracy should be on the 10-th epoch from the end."
   ]
  },
  {
   "cell_type": "code",
   "execution_count": 30,
   "metadata": {},
   "outputs": [
    {
     "name": "stdout",
     "output_type": "stream",
     "text": [
      "Epoch: 0; accuarity on validation set: 0.8734285831451416\n",
      "Epoch: 1; accuarity on validation set: 0.892714262008667\n",
      "Epoch: 10; accuarity on validation set: 0.8992857336997986\n"
     ]
    }
   ],
   "source": [
    "model = nn.Linear(28*28, 10)\n",
    "accuracies = train_classifier(model, training, validation)"
   ]
  },
  {
   "cell_type": "code",
   "execution_count": 31,
   "metadata": {},
   "outputs": [
    {
     "data": {
      "image/png": "[encoded data removed]",
      "text/plain": [
       "<Figure size 500x500 with 1 Axes>"
      ]
     },
     "metadata": {},
     "output_type": "display_data"
    }
   ],
   "source": [
    "_ = sns.relplot(x=range(len(accuracies)), y=accuracies, kind=\"line\")"
   ]
  },
  {
   "cell_type": "markdown",
   "metadata": {},
   "source": [
    "## Task 3: A neural network with a hidden layer"
   ]
  },
  {
   "cell_type": "markdown",
   "metadata": {},
   "source": [
    "Complete the cell below to create a neural network consisting of the following layers:\n",
    "  1. Linear layer (`nn.Linear`) having `28*28` inputs and `300` outputs\n",
    "  2. ReLU activation function (`nn.ReLU`)\n",
    "  3. Dropout layer (`nn.Dropout`) with the probability of `0.5`\n",
    "  4. Linear layer (`nn.Linear`) having `10` outputs\n",
    "To combine layers into a single model use `nn.Sequential` \n",
    "\n",
    "If you haven't found it so far, the documentation for the `torch.nn` module may now be of use: [https://pytorch.org/docs/stable/nn.html](https://pytorch.org/docs/stable/nn.html)"
   ]
  },
  {
   "cell_type": "code",
   "execution_count": 32,
   "metadata": {},
   "outputs": [],
   "source": [
    "model = nn.Sequential(nn.Linear(28*28, 300), nn.ReLU(), nn.Dropout(0.5), nn.Linear(300, 10))"
   ]
  },
  {
   "cell_type": "code",
   "execution_count": 33,
   "metadata": {},
   "outputs": [
    {
     "name": "stdout",
     "output_type": "stream",
     "text": [
      "Epoch: 0; accuarity on validation set: 0.9221428632736206\n",
      "Epoch: 1; accuarity on validation set: 0.9402857422828674\n",
      "Epoch: 2; accuarity on validation set: 0.949571430683136\n",
      "Epoch: 3; accuarity on validation set: 0.9548571705818176\n",
      "Epoch: 4; accuarity on validation set: 0.9589999914169312\n",
      "Epoch: 5; accuarity on validation set: 0.9617142677307129\n",
      "Epoch: 6; accuarity on validation set: 0.9639999866485596\n",
      "Epoch: 7; accuarity on validation set: 0.965571403503418\n",
      "Epoch: 8; accuarity on validation set: 0.9661428332328796\n",
      "Epoch: 9; accuarity on validation set: 0.9674285650253296\n",
      "Epoch: 10; accuarity on validation set: 0.9684285521507263\n",
      "Epoch: 11; accuarity on validation set: 0.9702857136726379\n",
      "Epoch: 13; accuarity on validation set: 0.972428560256958\n",
      "Epoch: 16; accuarity on validation set: 0.9732857346534729\n",
      "Epoch: 19; accuarity on validation set: 0.9739999771118164\n",
      "Epoch: 21; accuarity on validation set: 0.9755714535713196\n",
      "Epoch: 22; accuarity on validation set: 0.9767143130302429\n",
      "Epoch: 31; accuarity on validation set: 0.9768571257591248\n",
      "The best accurac on the validation set: 0.9768571257591248\n"
     ]
    }
   ],
   "source": [
    "accuracies = train_classifier(model, training, validation)\n",
    "print(\"The best accurac on the validation set:\", max(accuracies))"
   ]
  },
  {
   "cell_type": "markdown",
   "metadata": {},
   "source": [
    "## Task 4: Play with it!"
   ]
  },
  {
   "cell_type": "markdown",
   "metadata": {},
   "source": [
    "Construct at least 6 substantially different models (use common sense - e.g., changing the number of neurons from 300 to 301 is not a substantial change). Make sure you not only consider different hyperparameters (e.g., changing the number of neurons, changing the activation function), but also different architectures (e.g., adding/removing a layer). Train them using `train_classifier` and evaluate them all on the test subset of MNIST using the accuracy measure. Print out these accuracies and indicate which model is the best.\n",
    "\n",
    "If you want and can you can use other types of layers (e.g., convolutional layers), but please stick to what's available in PyTorch. The current state of the art on the MNIST dataset is around 99.9% accuracy [https://paperswithcode.com/sota/image-classification-on-mnist](https://paperswithcode.com/sota/image-classification-on-mnist)."
   ]
  },
  {
   "cell_type": "code",
   "execution_count": 34,
   "metadata": {},
   "outputs": [
    {
     "name": "stdout",
     "output_type": "stream",
     "text": [
      "Epoch: 0; accuarity on validation set: 0.21057142317295074\n",
      "Epoch: 4; accuarity on validation set: 0.21214285492897034\n",
      "Epoch: 12; accuarity on validation set: 0.21785713732242584\n",
      "Epoch: 13; accuarity on validation set: 0.21957142651081085\n",
      "Epoch: 15; accuarity on validation set: 0.22514285147190094\n",
      "Epoch: 16; accuarity on validation set: 0.22542856633663177\n",
      "Epoch: 17; accuarity on validation set: 0.2305714339017868\n",
      "Epoch: 18; accuarity on validation set: 0.23242856562137604\n",
      "Epoch: 26; accuarity on validation set: 0.23499999940395355\n",
      "Epoch: 27; accuarity on validation set: 0.23514285683631897\n",
      "Epoch: 29; accuarity on validation set: 0.2354285717010498\n",
      "The best accurac on the validation set: 0.2354285717010498\n"
     ]
    }
   ],
   "source": [
    "model1 = nn.Sequential(nn.Linear(28*28, 30), nn.Dropout(0.1), nn.Dropout(0.5), nn.Dropout(.9), nn.Softmax(1))\n",
    "accuracies = train_classifier(model1, training, validation)\n",
    "print(\"The best accurac on the validation set:\", max(accuracies))"
   ]
  },
  {
   "cell_type": "code",
   "execution_count": 35,
   "metadata": {},
   "outputs": [
    {
     "name": "stdout",
     "output_type": "stream",
     "text": [
      "Epoch: 0; accuarity on validation set: 0.13171428442001343\n",
      "Epoch: 1; accuarity on validation set: 0.14085714519023895\n",
      "Epoch: 2; accuarity on validation set: 0.3602857291698456\n",
      "Epoch: 4; accuarity on validation set: 0.3701428472995758\n",
      "Epoch: 5; accuarity on validation set: 0.3779999911785126\n",
      "Epoch: 6; accuarity on validation set: 0.3831428587436676\n",
      "Epoch: 7; accuarity on validation set: 0.4845714271068573\n",
      "Epoch: 8; accuarity on validation set: 0.5127142667770386\n",
      "The best accurac on the validation set: 0.5127142667770386\n"
     ]
    }
   ],
   "source": [
    "model2 = nn.Sequential(nn.Linear(28*28, 150), nn.LeakyReLU(), nn.Dropout(.9), nn.Softmax(1), nn.Linear(150, 10))\n",
    "accuracies = train_classifier(model2, training, validation)\n",
    "print(\"The best accurac on the validation set:\", max(accuracies))"
   ]
  },
  {
   "cell_type": "code",
   "execution_count": 36,
   "metadata": {},
   "outputs": [
    {
     "name": "stdout",
     "output_type": "stream",
     "text": [
      "Epoch: 0; accuarity on validation set: 0.6472856998443604\n",
      "Epoch: 1; accuarity on validation set: 0.7675714492797852\n",
      "Epoch: 2; accuarity on validation set: 0.8335714340209961\n",
      "Epoch: 3; accuarity on validation set: 0.8565714359283447\n",
      "Epoch: 4; accuarity on validation set: 0.8691428303718567\n",
      "Epoch: 5; accuarity on validation set: 0.8761428594589233\n",
      "Epoch: 6; accuarity on validation set: 0.8792856931686401\n",
      "Epoch: 7; accuarity on validation set: 0.8799999952316284\n",
      "Epoch: 8; accuarity on validation set: 0.8815714120864868\n",
      "Epoch: 9; accuarity on validation set: 0.8838571310043335\n",
      "Epoch: 10; accuarity on validation set: 0.8911428451538086\n",
      "Epoch: 15; accuarity on validation set: 0.8922857046127319\n",
      "Epoch: 16; accuarity on validation set: 0.8924285769462585\n",
      "Epoch: 17; accuarity on validation set: 0.8932856917381287\n",
      "Epoch: 18; accuarity on validation set: 0.8935714364051819\n",
      "Epoch: 19; accuarity on validation set: 0.8962857127189636\n",
      "Epoch: 26; accuarity on validation set: 0.8975714445114136\n",
      "Epoch: 32; accuarity on validation set: 0.897857129573822\n",
      "Epoch: 35; accuarity on validation set: 0.8984285593032837\n",
      "Epoch: 37; accuarity on validation set: 0.9001428484916687\n",
      "Epoch: 40; accuarity on validation set: 0.9011428356170654\n",
      "Epoch: 42; accuarity on validation set: 0.9031428694725037\n",
      "The best accurac on the validation set: 0.9031428694725037\n"
     ]
    }
   ],
   "source": [
    "model3 = nn.Sequential(nn.Linear(28*28, 150), nn.Dropout(0.1), nn.LogSigmoid(), nn.Dropout(.4), nn.Softmax(1), nn.Linear(150, 10))\n",
    "accuracies = train_classifier(model3, training, validation)\n",
    "print(\"The best accurac on the validation set:\", max(accuracies))"
   ]
  },
  {
   "cell_type": "code",
   "execution_count": 37,
   "metadata": {},
   "outputs": [
    {
     "name": "stdout",
     "output_type": "stream",
     "text": [
      "Epoch: 0; accuarity on validation set: 0.5484285950660706\n",
      "Epoch: 1; accuarity on validation set: 0.5851428508758545\n",
      "Epoch: 3; accuarity on validation set: 0.5882856845855713\n",
      "Epoch: 5; accuarity on validation set: 0.5971428751945496\n",
      "Epoch: 9; accuarity on validation set: 0.6132857203483582\n",
      "Epoch: 12; accuarity on validation set: 0.6144285798072815\n",
      "Epoch: 14; accuarity on validation set: 0.6204285621643066\n",
      "Epoch: 15; accuarity on validation set: 0.6205714344978333\n",
      "Epoch: 25; accuarity on validation set: 0.6248571276664734\n",
      "Epoch: 27; accuarity on validation set: 0.6282857060432434\n",
      "Epoch: 32; accuarity on validation set: 0.6304285526275635\n",
      "Epoch: 38; accuarity on validation set: 0.6311428546905518\n",
      "Epoch: 43; accuarity on validation set: 0.6331428289413452\n",
      "Epoch: 45; accuarity on validation set: 0.6359999775886536\n",
      "Epoch: 48; accuarity on validation set: 0.6368571519851685\n",
      "Epoch: 49; accuarity on validation set: 0.6371428370475769\n",
      "Epoch: 50; accuarity on validation set: 0.6381428837776184\n",
      "Epoch: 59; accuarity on validation set: 0.6408571600914001\n",
      "Epoch: 67; accuarity on validation set: 0.6439999938011169\n",
      "Epoch: 68; accuarity on validation set: 0.6442857384681702\n",
      "Epoch: 73; accuarity on validation set: 0.6451428532600403\n",
      "Epoch: 76; accuarity on validation set: 0.6648571491241455\n",
      "Epoch: 78; accuarity on validation set: 0.6748571395874023\n",
      "Epoch: 80; accuarity on validation set: 0.7005714178085327\n",
      "Epoch: 81; accuarity on validation set: 0.7218571305274963\n",
      "Epoch: 84; accuarity on validation set: 0.7231428623199463\n",
      "Epoch: 85; accuarity on validation set: 0.7261428833007812\n",
      "Epoch: 87; accuarity on validation set: 0.7265714406967163\n",
      "Epoch: 88; accuarity on validation set: 0.729285717010498\n",
      "Epoch: 90; accuarity on validation set: 0.7302857041358948\n",
      "Epoch: 96; accuarity on validation set: 0.7318571209907532\n",
      "Epoch: 97; accuarity on validation set: 0.7338571548461914\n",
      "Epoch: 104; accuarity on validation set: 0.7354285717010498\n",
      "Epoch: 111; accuarity on validation set: 0.7361428737640381\n",
      "Epoch: 114; accuarity on validation set: 0.7362856864929199\n",
      "Epoch: 123; accuarity on validation set: 0.7369999885559082\n",
      "Epoch: 124; accuarity on validation set: 0.7375714182853699\n",
      "Epoch: 132; accuarity on validation set: 0.7388571500778198\n",
      "The best accurac on the validation set: 0.7388571500778198\n"
     ]
    }
   ],
   "source": [
    "model4 = nn.Sequential(nn.Linear(28*28, 150), nn.Softmax(1), nn.Linear(150, 10))\n",
    "accuracies = train_classifier(model4, training, validation)\n",
    "print(\"The best accurac on the validation set:\", max(accuracies))"
   ]
  },
  {
   "cell_type": "code",
   "execution_count": 38,
   "metadata": {},
   "outputs": [
    {
     "name": "stdout",
     "output_type": "stream",
     "text": [
      "Epoch: 0; accuarity on validation set: 0.6432856917381287\n",
      "Epoch: 1; accuarity on validation set: 0.7044285535812378\n",
      "Epoch: 2; accuarity on validation set: 0.7558571696281433\n",
      "Epoch: 3; accuarity on validation set: 0.7581428289413452\n",
      "Epoch: 4; accuarity on validation set: 0.7868571281433105\n",
      "Epoch: 5; accuarity on validation set: 0.7998571395874023\n",
      "Epoch: 6; accuarity on validation set: 0.8395714163780212\n",
      "Epoch: 7; accuarity on validation set: 0.8444285988807678\n",
      "Epoch: 8; accuarity on validation set: 0.8707143068313599\n",
      "Epoch: 9; accuarity on validation set: 0.8824285864830017\n",
      "Epoch: 10; accuarity on validation set: 0.8952857255935669\n",
      "Epoch: 11; accuarity on validation set: 0.9044285416603088\n",
      "Epoch: 13; accuarity on validation set: 0.9072856903076172\n",
      "Epoch: 17; accuarity on validation set: 0.9148571491241455\n",
      "Epoch: 26; accuarity on validation set: 0.9152857065200806\n",
      "Epoch: 27; accuarity on validation set: 0.9204285740852356\n",
      "The best accurac on the validation set: 0.9204285740852356\n"
     ]
    }
   ],
   "source": [
    "model5 = nn.Sequential(nn.Linear(28*28, 400), nn.MaxPool1d(5), nn.LeakyReLU(), nn.Softmax(1), nn.Linear(80, 10))\n",
    "accuracies = train_classifier(model5, training, validation, no_improvement=10)\n",
    "print(\"The best accurac on the validation set:\", max(accuracies))"
   ]
  },
  {
   "cell_type": "code",
   "execution_count": 39,
   "metadata": {},
   "outputs": [
    {
     "name": "stdout",
     "output_type": "stream",
     "text": [
      "Epoch: 0; accuarity on validation set: 0.9241428375244141\n",
      "Epoch: 1; accuarity on validation set: 0.943142831325531\n",
      "Epoch: 2; accuarity on validation set: 0.951714277267456\n",
      "Epoch: 3; accuarity on validation set: 0.9549999833106995\n",
      "Epoch: 5; accuarity on validation set: 0.959857165813446\n",
      "Epoch: 6; accuarity on validation set: 0.9624285697937012\n",
      "Epoch: 7; accuarity on validation set: 0.9631428718566895\n",
      "Epoch: 9; accuarity on validation set: 0.9641428589820862\n",
      "Epoch: 10; accuarity on validation set: 0.9662857055664062\n",
      "Epoch: 13; accuarity on validation set: 0.9687142968177795\n",
      "Epoch: 17; accuarity on validation set: 0.970714271068573\n",
      "Epoch: 20; accuarity on validation set: 0.9710000157356262\n",
      "Epoch: 21; accuarity on validation set: 0.9725714325904846\n",
      "Epoch: 30; accuarity on validation set: 0.9729999899864197\n",
      "The best accurac on the validation set: 0.9729999899864197\n"
     ]
    }
   ],
   "source": [
    "model6 = nn.Sequential(nn.Linear(28*28, 200), nn.MaxPool1d(5), nn.ReLU(), nn.LogSoftmax(1), nn.Linear(40, 10))\n",
    "accuracies = train_classifier(model6, training, validation, no_improvement=10)\n",
    "print(\"The best accurac on the validation set:\", max(accuracies))"
   ]
  },
  {
   "cell_type": "code",
   "execution_count": 40,
   "metadata": {},
   "outputs": [
    {
     "name": "stdout",
     "output_type": "stream",
     "text": [
      "Epoch: 0; accuarity on validation set: 0.730571448802948\n",
      "Epoch: 1; accuarity on validation set: 0.8214285969734192\n",
      "Epoch: 2; accuarity on validation set: 0.881428599357605\n",
      "Epoch: 3; accuarity on validation set: 0.8942857384681702\n",
      "Epoch: 4; accuarity on validation set: 0.9070000052452087\n",
      "Epoch: 5; accuarity on validation set: 0.9120000004768372\n",
      "Epoch: 6; accuarity on validation set: 0.9192857146263123\n",
      "Epoch: 7; accuarity on validation set: 0.9194285869598389\n",
      "Epoch: 8; accuarity on validation set: 0.9269999861717224\n",
      "Epoch: 10; accuarity on validation set: 0.9337142705917358\n",
      "Epoch: 14; accuarity on validation set: 0.9365714192390442\n",
      "Epoch: 15; accuarity on validation set: 0.9368571639060974\n",
      "Epoch: 17; accuarity on validation set: 0.9381428360939026\n",
      "Epoch: 19; accuarity on validation set: 0.9424285888671875\n",
      "Epoch: 20; accuarity on validation set: 0.9428571462631226\n",
      "Epoch: 23; accuarity on validation set: 0.9452857375144958\n",
      "Epoch: 24; accuarity on validation set: 0.9480000138282776\n",
      "Epoch: 28; accuarity on validation set: 0.9502857327461243\n",
      "Epoch: 29; accuarity on validation set: 0.951285719871521\n",
      "Epoch: 34; accuarity on validation set: 0.9537143111228943\n",
      "The best accurac on the validation set: 0.9537143111228943\n"
     ]
    }
   ],
   "source": [
    "model7 = nn.Sequential(nn.Linear(28*28, 500), nn.MaxPool1d(10), nn.LogSigmoid(), nn.Dropout(.5), nn.Linear(50, 10), nn.LogSoftmax(1))\n",
    "accuracies = train_classifier(model7, training, validation, no_improvement=10)\n",
    "print(\"The best accurac on the validation set:\", max(accuracies))"
   ]
  },
  {
   "cell_type": "code",
   "execution_count": null,
   "metadata": {},
   "outputs": [
    {
     "name": "stdout",
     "output_type": "stream",
     "text": [
      "Epoch: 0; accuarity on validation set: 0.9527142643928528\n",
      "Epoch: 1; accuarity on validation set: 0.9647142887115479\n",
      "Epoch: 2; accuarity on validation set: 0.972428560256958\n",
      "Epoch: 5; accuarity on validation set: 0.9761428833007812\n",
      "Epoch: 9; accuarity on validation set: 0.9774285554885864\n",
      "Epoch: 13; accuarity on validation set: 0.9782857298851013\n",
      "Epoch: 14; accuarity on validation set: 0.9785714149475098\n",
      "Epoch: 18; accuarity on validation set: 0.9801428318023682\n",
      "Epoch: 19; accuarity on validation set: 0.9804285764694214\n",
      "Epoch: 27; accuarity on validation set: 0.9810000061988831\n",
      "Epoch: 28; accuarity on validation set: 0.9841428399085999\n"
     ]
    }
   ],
   "source": [
    "model8 = nn.Sequential(nn.Linear(28*28, 500),\n",
    "                       nn.LogSigmoid(),\n",
    "                       nn.Linear(500, 250),\n",
    "                       nn.LogSigmoid(),\n",
    "                       nn.Dropout(0.5),\n",
    "                       nn.Linear(250, 100),\n",
    "                       nn.LogSigmoid(),\n",
    "                       nn.Linear(100, 50),\n",
    "                       nn.LogSigmoid(),\n",
    "                       nn.Dropout(0.5),\n",
    "                       nn.Linear(50, 10),\n",
    "                       nn.LogSoftmax(1))\n",
    "accuracies = train_classifier(model8, training, validation, no_improvement=10)\n",
    "print(\"The best accurac on the validation set:\", max(accuracies))"
   ]
  },
  {
   "cell_type": "markdown",
   "metadata": {},
   "source": [
    "Looking at my models, I think that the last one is definately the best, learns fastest and has decent accuarity. To be honest in the begging I have no idea want am doing but later I figured out couple things and even tried convolutional layers, but my computer wasn't so kind to allow me to unleash their potential."
   ]
  },
  {
   "cell_type": "markdown",
   "metadata": {},
   "source": [
    "----\n",
    "Some final remarks:\n",
    "* PyTorch also offers autoloading some datasets, see e.g. [https://pytorch.org/vision/stable/datasets.html](https://pytorch.org/vision/stable/datasets.html)\n",
    "* Early stopping should also save the parameters of the best model and restore them upon termination. I decided to skip this part to avoid adding yet another opaque piece. If you are interested see [https://pytorch.org/tutorials/beginner/basics/saveloadrun_tutorial.html](https://pytorch.org/tutorials/beginner/basics/saveloadrun_tutorial.html)\n",
    "* As all deep learning libraries, PyTorch offers support for offloading computation to GPU. In practice the difference is tremendous, but you need a graphics card supporting CUDA, i.e., an Nvidia card. Since this is a rather restrictive requirement, I elected not to introduce this aspect. If you are interested, see e.g. [https://pytorch.org/tutorials/beginner/basics/buildmodel_tutorial.html](https://pytorch.org/tutorials/beginner/basics/buildmodel_tutorial.html). If you don't have an Nvidia card, there are services out there that will allow you to access one for free for a short period of time, e.g., Google Colab [https://colab.research.google.com/](https://colab.research.google.com/) or Paperspace Gradient [https://www.paperspace.com/gradient/free-gpu](https://www.paperspace.com/gradient/free-gpu).\n",
    "* *Layer* is a vague term. It could be argued that neither dropout nor relu by themselves are layers, but rather they form a single layer together with `nn.Linear`. In here, I elected to follow the same naming convention that is used in the PyTorch documentation."
   ]
  }
 ],
 "metadata": {
  "kernelspec": {
   "display_name": "Python 3 (ipykernel)",
   "language": "python",
   "name": "python3"
  },
  "language_info": {
   "codemirror_mode": {
    "name": "ipython",
    "version": 3
   },
   "file_extension": ".py",
   "mimetype": "text/x-python",
   "name": "python",
   "nbconvert_exporter": "python",
   "pygments_lexer": "ipython3",
   "version": "3.10.9"
  }
 },
 "nbformat": 4,
 "nbformat_minor": 4
}

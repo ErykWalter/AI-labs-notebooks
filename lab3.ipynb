{
 "cells": [
  {
   "cell_type": "markdown",
   "metadata": {},
   "source": [
    "# Local search"
   ]
  },
  {
   "cell_type": "markdown",
   "metadata": {},
   "source": [
    "During the previous classes we were concerned with finding a sequence of actions (a plan) to reach one of the goal states from a predefined initial state. In a sense, we were more interested in the *journey* rather than in the *destination* itself: our goal was to transform the initial state to the goal state, not to construct the goal state from scratch. Local search is also different from tree/graph search algorithms like A*: it assumes that all intermediate states are acceptable, but they differ in their quality and the goal is to find the best solution."
   ]
  },
  {
   "cell_type": "markdown",
   "metadata": {},
   "source": [
    "We will reuse the definition of the class `Problem` from earlier, but extend it with a new function: `cost`, returning a number representing the cost of the state given as its argument `state`. We want to minimize the cost, so the lower the number the better the state. We make no assumptions about the cost being non-negative, i.e., there may be states with a negative cost (i.e., a gain) - such an approach enables us to consider both maximization and minimization problems within a single framework. We also replace the property `intial_state` with the funtion `random_state` which is supposed to return a randomly generated state for the problem. Finally, we remove `is_goal`, as there may be no clear goal definition."
   ]
  },
  {
   "cell_type": "code",
   "execution_count": 1,
   "metadata": {},
   "outputs": [],
   "source": [
    "class Problem:\n",
    "    def random_state(self):\n",
    "        ...\n",
    "        \n",
    "    def available_actions(self, state):\n",
    "        ...        \n",
    "        \n",
    "    def do_action(self, state, action):\n",
    "        ...\n",
    "        return new_state\n",
    "        \n",
    "    def cost(self, state) -> float:\n",
    "        ..."
   ]
  },
  {
   "cell_type": "markdown",
   "metadata": {},
   "source": [
    "Throughout this assignment we will be using a pseudo-random number generator. A pseudo-random number generator is an algorithm that, given some initial state (usually called *seed*) returns a sequence of numbers. The algorithm itself is deterministic, meaning that the same initial state = the same sequence of numbers. To exploit this property, in the following cell we fix the seed to be 42 - this way every time you restart the notebook and execute it you will get the same results."
   ]
  },
  {
   "cell_type": "code",
   "execution_count": 2,
   "metadata": {},
   "outputs": [],
   "source": [
    "import random\n",
    "random.seed(42)"
   ]
  },
  {
   "cell_type": "markdown",
   "metadata": {},
   "source": [
    "As an example, we will consider the problem of finding a minimum of some complex function of 2 variables within the domain of integer from the set $\\{-10, -9, \\ldots, 9, 10\\}$. Observe that, in general, moving from the real domain to the integer domain makes the usual optimization algorithms unsuitable. "
   ]
  },
  {
   "cell_type": "code",
   "execution_count": 3,
   "metadata": {},
   "outputs": [],
   "source": [
    "class FunctionOptimizationProblem:\n",
    "    def random_state(self):\n",
    "        x = random.randrange(-10, 11)\n",
    "        y = random.randrange(-10, 11)\n",
    "        return (x, y)\n",
    "    \n",
    "    def available_actions(self, state):\n",
    "        x, y = state\n",
    "        actions = []\n",
    "        if x > -10:\n",
    "            actions += [(-1, 0)]\n",
    "        if y > -10:\n",
    "            actions += [(0, -1)]\n",
    "        if x < 10:\n",
    "            actions += [(1, 0)]\n",
    "        if y < 10:\n",
    "            actions += [(0, 1)]\n",
    "        return actions\n",
    "    \n",
    "    def do_action(self, state, action):\n",
    "        x, y = state\n",
    "        dx, dy = action\n",
    "        return (x+dx, y+dy)\n",
    "    \n",
    "    def cost(self, state) -> float:\n",
    "        x, y = state\n",
    "        cost = -5*x-8*y\n",
    "        if x+y>6:\n",
    "            cost += 10000\n",
    "        if 5*x+9*y>45:\n",
    "            cost += 10000\n",
    "        if x < 0:\n",
    "            cost += 10000\n",
    "        if y < 0:\n",
    "            cost += 10000\n",
    "        return cost"
   ]
  },
  {
   "cell_type": "markdown",
   "metadata": {},
   "source": [
    "Let's test it a bit. We start by creating the object representing the problem and generating two random states. Observe that they are different."
   ]
  },
  {
   "cell_type": "code",
   "execution_count": 4,
   "metadata": {},
   "outputs": [
    {
     "name": "stdout",
     "output_type": "stream",
     "text": [
      "Random state 1 (10, -7)\n",
      "Random state 2 (-10, -2)\n"
     ]
    }
   ],
   "source": [
    "problem = FunctionOptimizationProblem()\n",
    "print(\"Random state 1\", problem.random_state())\n",
    "print(\"Random state 2\", problem.random_state())"
   ]
  },
  {
   "cell_type": "markdown",
   "metadata": {},
   "source": [
    "Now let's compute the cost of few different states"
   ]
  },
  {
   "cell_type": "code",
   "execution_count": 5,
   "metadata": {},
   "outputs": [
    {
     "name": "stdout",
     "output_type": "stream",
     "text": [
      "The cost of an acceptable state (3, 3): -39\n",
      "The cost of a terrible state (3, 7): 19929\n",
      "The cost of an optimal solution (0, 5): -40\n"
     ]
    }
   ],
   "source": [
    "print(\"The cost of an acceptable state (3, 3):\", problem.cost((3,3)))\n",
    "print(\"The cost of a terrible state (3, 7):\", problem.cost((3,7)))\n",
    "print(\"The cost of an optimal solution (0, 5):\", problem.cost((0,5)))"
   ]
  },
  {
   "cell_type": "markdown",
   "metadata": {},
   "source": [
    "## Task 1: Implement hill climbing"
   ]
  },
  {
   "cell_type": "markdown",
   "metadata": {},
   "source": [
    "Complete the following cell of code with an implemention of the hill climbing algorithm.\n",
    "The algorithm starts in the initial state of the given search problem `problem` and loops forever.\n",
    "During each repetition of the loop it \"looks around\" and tests all the states achievable through actions available in the current state.\n",
    "If none of them is better than the current state (i.e., the algorithm reached a peak or a plateau according to the `cost` function), it breaks the loop and returns the reached state.\n",
    "Otherwise, it goes to the best of these neighbouring states and computes the next repetition of the loop."
   ]
  },
  {
   "cell_type": "code",
   "execution_count": 6,
   "metadata": {},
   "outputs": [],
   "source": [
    "import math\n",
    "\n",
    "def hill_climbing(problem):\n",
    "    curr_state = problem.random_state()\n",
    "    prev_state = []\n",
    "    curr_cost = problem.cost(curr_state)\n",
    "    prev_cost = math.inf\n",
    "    while curr_cost < prev_cost:\n",
    "        adjacent_nodes = []\n",
    "        for action in problem.available_actions(curr_state):\n",
    "            new_state = problem.do_action(curr_state, action)\n",
    "            new_cost = problem.cost(new_state)\n",
    "            adjacent_nodes.append((new_cost, new_state))\n",
    "        prev_cost, prev_state = curr_cost, curr_state\n",
    "        if adjacent_nodes:\n",
    "            curr_cost, curr_state = min(adjacent_nodes)\n",
    "    return prev_state"
   ]
  },
  {
   "cell_type": "markdown",
   "metadata": {},
   "source": [
    "Lets test your implementation. Try running the cell multiple times. Observe that on some runs it is capable of finding the optimal solution. On others, the result is terrible."
   ]
  },
  {
   "cell_type": "code",
   "execution_count": 7,
   "metadata": {
    "scrolled": true,
    "tags": []
   },
   "outputs": [
    {
     "name": "stdout",
     "output_type": "stream",
     "text": [
      "Solution (-2, 6)\n",
      "Cost 9962\n"
     ]
    }
   ],
   "source": [
    "problem = FunctionOptimizationProblem()\n",
    "solution = hill_climbing(problem)\n",
    "print(\"Solution\", solution)\n",
    "print(\"Cost\", problem.cost(solution))"
   ]
  },
  {
   "cell_type": "markdown",
   "metadata": {},
   "source": [
    "## Task 2: Implement random-restarts hill-climbing"
   ]
  },
  {
   "cell_type": "markdown",
   "metadata": {},
   "source": [
    "Complete the cell below to implement random-restarts hill-climbing. Randomization is already taken care of in the problem, so basically your task is to call `hill_climbing` number of times given by the argument `n` and return the best solution."
   ]
  },
  {
   "cell_type": "code",
   "execution_count": 8,
   "metadata": {},
   "outputs": [],
   "source": [
    "def random_restarts_hill_climbing(problem: Problem, n: int):\n",
    "    # I'm aware that this code may not be well readable but I can't resist write it as one-liner\n",
    "    return min([hill_climbing(problem) for _ in range(n)], key = lambda x: problem.cost(x))"
   ]
  },
  {
   "cell_type": "code",
   "execution_count": 9,
   "metadata": {},
   "outputs": [
    {
     "name": "stdout",
     "output_type": "stream",
     "text": [
      "Solution (0, 5)\n",
      "Cost -40\n"
     ]
    }
   ],
   "source": [
    "problem = FunctionOptimizationProblem()\n",
    "solution = random_restarts_hill_climbing(problem, 100)\n",
    "print(\"Solution\", solution)\n",
    "print(\"Cost\", problem.cost(solution))"
   ]
  },
  {
   "cell_type": "markdown",
   "metadata": {},
   "source": [
    "## Task 3: The n-queens"
   ]
  },
  {
   "cell_type": "markdown",
   "metadata": {},
   "source": [
    "Complete the following cell of code with the implementation of the n-queens problem. The gist of the problem is to place $n$ queens on a $n \\times n$ cheesboard so that no queen attacks another. In other words: there is at most one queen in every row, column and diagonal of the cheesboard. The value $n$ is given as the constructor parameter and available in the class as `self.n`."
   ]
  },
  {
   "cell_type": "code",
   "execution_count": 10,
   "metadata": {},
   "outputs": [],
   "source": [
    "class NQueens(Problem):\n",
    "    def __init__(self, n):\n",
    "        self.n = n\n",
    "        \n",
    "    def random_state(self):\n",
    "        # random state is a tuple of n ints which tells on which index the queen in n-th row is placed\n",
    "        # state for N = 8 looks like (2, 3, 6, 0, 4, 5, 1, 7)\n",
    "        state = list(range(self.n))\n",
    "#         print(state)\n",
    "        random.shuffle(state)\n",
    "#         print(state)\n",
    "        state = tuple(state)\n",
    "#         print(state)\n",
    "        return state\n",
    "        \n",
    "    def available_actions(self, state):\n",
    "        actions = []\n",
    "        for first in range(self.n):\n",
    "            for second in range(self.n-first, first):\n",
    "                actions.append((first, second))\n",
    "        return actions\n",
    "        \n",
    "    def do_action(self, state, action):\n",
    "        first, second = action\n",
    "        new_state = list(state)\n",
    "        new_state[first], new_state[second] = new_state[second], new_state[first]\n",
    "        return tuple(new_state)\n",
    "        \n",
    "    def cost(self, state) -> float:\n",
    "        under_attack = [False for _ in range(self.n)]\n",
    "        \n",
    "        for row, queen in enumerate(state):\n",
    "            \n",
    "            for spread in range(1, max(self.n - row, row)):\n",
    "                \"\"\"max() is for optimization purpose, it decreases number of iterations by \n",
    "                quite a lot (of course there is still the same time complexity)\n",
    "                from n^2 to something like 0.75n^2, it seems like not much but runtimes are much better\"\"\"\n",
    "                upper_row = row - spread\n",
    "                lower_row = row + spread\n",
    "                left_col = queen - spread\n",
    "                right_col = queen + spread\n",
    "                \n",
    "                if upper_row >= 0:\n",
    "                    under_attack[upper_row] = state[upper_row] == left_col or state[upper_row] == right_col\n",
    "                if lower_row < self.n:\n",
    "                    under_attack[lower_row] = state[lower_row] == left_col or state[lower_row] == right_col\n",
    "                    \n",
    "        return sum(under_attack)"
   ]
  },
  {
   "cell_type": "markdown",
   "metadata": {},
   "source": [
    "Let's test your implementations. If everything went well, the following cell should terminate after a few seconds and yield a perfect configuration of queens on a $8 \\times 8$ board."
   ]
  },
  {
   "cell_type": "code",
   "execution_count": 11,
   "metadata": {},
   "outputs": [
    {
     "name": "stdout",
     "output_type": "stream",
     "text": [
      "Solution (3, 6, 2, 4, 7, 1, 0, 5)\n",
      "Cost 0\n"
     ]
    }
   ],
   "source": [
    "# import time\n",
    "# import matplotlib.pyplot as plt\n",
    "\n",
    "# times = []\n",
    "# for n in range(21):\n",
    "#     print(n, end = \" \")\n",
    "#     start = time.time_ns()\n",
    "#     problem = NQueens(n)\n",
    "#     solution = random_restarts_hill_climbing(problem, 100)\n",
    "#     end = time.time_ns() - start\n",
    "#     times.append(end / 10**6)\n",
    "\n",
    "problem = NQueens(8)\n",
    "solution = random_restarts_hill_climbing(problem, 100)\n",
    "\n",
    "print(\"Solution\", solution)\n",
    "print(\"Cost\", problem.cost(solution))\n",
    "# plt.plot(times)\n",
    "# plt.xlabel(\"Number of queens\")\n",
    "# plt.ylabel(\"Time for 100 restart in ms\")\n",
    "# plt.show()"
   ]
  }
 ],
 "metadata": {
  "kernelspec": {
   "display_name": "Python 3 (ipykernel)",
   "language": "python",
   "name": "python3"
  },
  "language_info": {
   "codemirror_mode": {
    "name": "ipython",
    "version": 3
   },
   "file_extension": ".py",
   "mimetype": "text/x-python",
   "name": "python",
   "nbconvert_exporter": "python",
   "pygments_lexer": "ipython3",
   "version": "3.10.8"
  }
 },
 "nbformat": 4,
 "nbformat_minor": 4
}
